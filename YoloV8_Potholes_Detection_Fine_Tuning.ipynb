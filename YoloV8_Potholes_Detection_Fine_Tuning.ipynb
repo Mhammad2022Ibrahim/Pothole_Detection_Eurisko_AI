{
  "nbformat": 4,
  "nbformat_minor": 0,
  "metadata": {
    "colab": {
      "provenance": [],
      "gpuType": "T4"
    },
    "kernelspec": {
      "name": "python3",
      "display_name": "Python 3"
    },
    "language_info": {
      "name": "python"
    },
    "accelerator": "GPU"
  },
  "cells": [
    {
      "cell_type": "code",
      "execution_count": 1,
      "metadata": {
        "colab": {
          "base_uri": "https://localhost:8080/"
        },
        "id": "H70g1pC20FVD",
        "outputId": "4b966313-2c1b-467a-a36c-cc13d764b416"
      },
      "outputs": [
        {
          "output_type": "stream",
          "name": "stdout",
          "text": [
            "Mounted at /content/drive\n"
          ]
        }
      ],
      "source": [
        "from google.colab import drive\n",
        "drive.mount('/content/drive')"
      ]
    },
    {
      "cell_type": "code",
      "source": [
        "%cd /content/drive/MyDrive/YoloV11_Potholes_Detection"
      ],
      "metadata": {
        "colab": {
          "base_uri": "https://localhost:8080/"
        },
        "id": "RMBhyQJK0Lp5",
        "outputId": "f018dc74-30b4-4812-f231-07d3de5152fc"
      },
      "execution_count": 1,
      "outputs": [
        {
          "output_type": "stream",
          "name": "stdout",
          "text": [
            "/content/drive/MyDrive/YoloV11_Potholes_Detection\n"
          ]
        }
      ]
    },
    {
      "cell_type": "code",
      "source": [
        "import os\n",
        "HOME = os.getcwd()\n",
        "print(HOME)"
      ],
      "metadata": {
        "colab": {
          "base_uri": "https://localhost:8080/"
        },
        "id": "DFieftCK0l0y",
        "outputId": "96f10bb8-5157-4448-9dcc-a4959e3c34de"
      },
      "execution_count": 2,
      "outputs": [
        {
          "output_type": "stream",
          "name": "stdout",
          "text": [
            "/content/drive/MyDrive/YoloV11_Potholes_Detection\n"
          ]
        }
      ]
    },
    {
      "cell_type": "code",
      "source": [
        "!pip -q install roboflow"
      ],
      "metadata": {
        "id": "eTY753g70rbf"
      },
      "execution_count": 3,
      "outputs": []
    },
    {
      "cell_type": "code",
      "source": [
        "!mkdir {HOME}/datasets"
      ],
      "metadata": {
        "id": "6be9YXfj0vJ6"
      },
      "execution_count": 6,
      "outputs": []
    },
    {
      "cell_type": "code",
      "source": [
        "%cd {HOME}/datasets\n",
        "\n",
        "from roboflow import Roboflow\n",
        "rf = Roboflow(api_key=\"wZjRSm2COEhivHpubFLO\")\n",
        "project = rf.workspace(\"potholesdetection-aq76f\").project(\"detection-potholes-classes\")\n",
        "version = project.version(7)\n",
        "dataset = version.download(\"yolov8\")"
      ],
      "metadata": {
        "colab": {
          "base_uri": "https://localhost:8080/"
        },
        "id": "a-DR2ZpS0xXH",
        "outputId": "4c0cb7c9-11ee-408f-9298-7838afe98920"
      },
      "execution_count": 7,
      "outputs": [
        {
          "output_type": "stream",
          "name": "stdout",
          "text": [
            "/content/drive/MyDrive/YoloV11_Potholes_Detection/datasets\n",
            "loading Roboflow workspace...\n",
            "loading Roboflow project...\n",
            "[WARNING] we noticed you are downloading a `yolov8` datasets but you don't have `ultralytics` installed. Roboflow `.deploy` supports only models trained with `ultralytics==8.0.196`, to intall it `pip install ultralytics==8.0.196`.\n"
          ]
        },
        {
          "output_type": "stream",
          "name": "stderr",
          "text": [
            "Downloading Dataset Version Zip in Detection-Potholes-Classes-7 to yolov8:: 100%|██████████| 106439/106439 [00:09<00:00, 11424.26it/s]"
          ]
        },
        {
          "output_type": "stream",
          "name": "stdout",
          "text": [
            "\n"
          ]
        },
        {
          "output_type": "stream",
          "name": "stderr",
          "text": [
            "\n",
            "Extracting Dataset Version Zip to Detection-Potholes-Classes-7 in yolov8:: 100%|██████████| 3144/3144 [00:25<00:00, 123.91it/s]\n"
          ]
        }
      ]
    },
    {
      "cell_type": "code",
      "source": [
        "%pip -q install ultralytics  # install\n",
        "from ultralytics import YOLO, checks, hub\n",
        "\n",
        "checks()  # checks"
      ],
      "metadata": {
        "colab": {
          "base_uri": "https://localhost:8080/"
        },
        "id": "MR4ahgxg1Ncn",
        "outputId": "3c046b8b-06c7-4a4b-b109-c2c14c9b125b"
      },
      "execution_count": 1,
      "outputs": [
        {
          "output_type": "stream",
          "name": "stdout",
          "text": [
            "Ultralytics 8.3.5 🚀 Python-3.10.12 torch-2.4.1+cu121 CPU (Intel Xeon 2.20GHz)\n",
            "Setup complete ✅ (2 CPUs, 12.7 GB RAM, 41.2/107.7 GB disk)\n"
          ]
        }
      ]
    },
    {
      "cell_type": "code",
      "source": [
        "%cd {HOME}\n",
        "\n",
        "!yolo task=segment mode=train model=yolov8m-seg.pt data={dataset.location}/data.yaml epochs=100 imgsz=640 box=5 cls=0.3 dfl=5 batch=16 weight_decay=0.0005"
      ],
      "metadata": {
        "colab": {
          "base_uri": "https://localhost:8080/"
        },
        "id": "Xobn1O7A1CZ4",
        "outputId": "3ca6ce64-add1-44c9-a31d-0177667a0cf6"
      },
      "execution_count": 17,
      "outputs": [
        {
          "output_type": "stream",
          "name": "stdout",
          "text": [
            "/content/drive/MyDrive/YoloV11_Potholes_Detection\n",
            "Ultralytics 8.3.5 🚀 Python-3.10.12 torch-2.4.1+cu121 CUDA:0 (Tesla T4, 15102MiB)\n",
            "\u001b[34m\u001b[1mengine/trainer: \u001b[0mtask=segment, mode=train, model=yolov8m-seg.pt, data=/content/drive/MyDrive/YoloV11_Potholes_Detection/datasets/Detection-Potholes-Classes-7/data.yaml, epochs=100, time=None, patience=100, batch=16, imgsz=640, save=True, save_period=-1, cache=False, device=None, workers=8, project=None, name=train3, exist_ok=False, pretrained=True, optimizer=auto, verbose=True, seed=0, deterministic=True, single_cls=False, rect=False, cos_lr=False, close_mosaic=10, resume=False, amp=True, fraction=1.0, profile=False, freeze=None, multi_scale=False, overlap_mask=True, mask_ratio=4, dropout=0.0, val=True, split=val, save_json=False, save_hybrid=False, conf=None, iou=0.7, max_det=300, half=False, dnn=False, plots=True, source=None, vid_stride=1, stream_buffer=False, visualize=False, augment=False, agnostic_nms=False, classes=None, retina_masks=False, embed=None, show=False, save_frames=False, save_txt=False, save_conf=False, save_crop=False, show_labels=True, show_conf=True, show_boxes=True, line_width=None, format=torchscript, keras=False, optimize=False, int8=False, dynamic=False, simplify=True, opset=None, workspace=4, nms=False, lr0=0.01, lrf=0.01, momentum=0.937, weight_decay=0.0005, warmup_epochs=3.0, warmup_momentum=0.8, warmup_bias_lr=0.1, box=5, cls=0.3, dfl=5, pose=12.0, kobj=1.0, label_smoothing=0.0, nbs=64, hsv_h=0.015, hsv_s=0.7, hsv_v=0.4, degrees=0.0, translate=0.1, scale=0.5, shear=0.0, perspective=0.0, flipud=0.0, fliplr=0.5, bgr=0.0, mosaic=1.0, mixup=0.0, copy_paste=0.0, copy_paste_mode=flip, auto_augment=randaugment, erasing=0.4, crop_fraction=1.0, cfg=None, tracker=botsort.yaml, save_dir=runs/segment/train3\n",
            "Overriding model.yaml nc=80 with nc=3\n",
            "\n",
            "                   from  n    params  module                                       arguments                     \n",
            "  0                  -1  1      1392  ultralytics.nn.modules.conv.Conv             [3, 48, 3, 2]                 \n",
            "  1                  -1  1     41664  ultralytics.nn.modules.conv.Conv             [48, 96, 3, 2]                \n",
            "  2                  -1  2    111360  ultralytics.nn.modules.block.C2f             [96, 96, 2, True]             \n",
            "  3                  -1  1    166272  ultralytics.nn.modules.conv.Conv             [96, 192, 3, 2]               \n",
            "  4                  -1  4    813312  ultralytics.nn.modules.block.C2f             [192, 192, 4, True]           \n",
            "  5                  -1  1    664320  ultralytics.nn.modules.conv.Conv             [192, 384, 3, 2]              \n",
            "  6                  -1  4   3248640  ultralytics.nn.modules.block.C2f             [384, 384, 4, True]           \n",
            "  7                  -1  1   1991808  ultralytics.nn.modules.conv.Conv             [384, 576, 3, 2]              \n",
            "  8                  -1  2   3985920  ultralytics.nn.modules.block.C2f             [576, 576, 2, True]           \n",
            "  9                  -1  1    831168  ultralytics.nn.modules.block.SPPF            [576, 576, 5]                 \n",
            " 10                  -1  1         0  torch.nn.modules.upsampling.Upsample         [None, 2, 'nearest']          \n",
            " 11             [-1, 6]  1         0  ultralytics.nn.modules.conv.Concat           [1]                           \n",
            " 12                  -1  2   1993728  ultralytics.nn.modules.block.C2f             [960, 384, 2]                 \n",
            " 13                  -1  1         0  torch.nn.modules.upsampling.Upsample         [None, 2, 'nearest']          \n",
            " 14             [-1, 4]  1         0  ultralytics.nn.modules.conv.Concat           [1]                           \n",
            " 15                  -1  2    517632  ultralytics.nn.modules.block.C2f             [576, 192, 2]                 \n",
            " 16                  -1  1    332160  ultralytics.nn.modules.conv.Conv             [192, 192, 3, 2]              \n",
            " 17            [-1, 12]  1         0  ultralytics.nn.modules.conv.Concat           [1]                           \n",
            " 18                  -1  2   1846272  ultralytics.nn.modules.block.C2f             [576, 384, 2]                 \n",
            " 19                  -1  1   1327872  ultralytics.nn.modules.conv.Conv             [384, 384, 3, 2]              \n",
            " 20             [-1, 9]  1         0  ultralytics.nn.modules.conv.Concat           [1]                           \n",
            " 21                  -1  2   4207104  ultralytics.nn.modules.block.C2f             [960, 576, 2]                 \n",
            " 22        [15, 18, 21]  1   2525561  ultralytics.nn.modules.head.Segment          [3, 32, 192, [192, 384, 576]] \n",
            "YOLOv8m-seg summary: 355 layers, 24,606,185 parameters, 24,606,169 gradients, 99.2 GFLOPs\n",
            "\n",
            "Transferred 495/573 items from pretrained weights\n",
            "\u001b[34m\u001b[1mTensorBoard: \u001b[0mStart with 'tensorboard --logdir runs/segment/train3', view at http://localhost:6006/\n",
            "Freezing layer 'model.22.dfl.conv.weight'\n",
            "\u001b[34m\u001b[1mAMP: \u001b[0mrunning Automatic Mixed Precision (AMP) checks with YOLO11n...\n",
            "\u001b[34m\u001b[1mAMP: \u001b[0mchecks passed ✅\n",
            "\u001b[34m\u001b[1mtrain: \u001b[0mScanning /content/drive/MyDrive/YoloV11_Potholes_Detection/datasets/Detection-Potholes-Classes-7/train/labels.cache... 1098 images, 4 backgrounds, 0 corrupt: 100% 1098/1098 [00:00<?, ?it/s]\n",
            "\u001b[34m\u001b[1mtrain: \u001b[0mWARNING ⚠️ /content/drive/MyDrive/YoloV11_Potholes_Detection/datasets/Detection-Potholes-Classes-7/train/images/1-50-_mp4-0000_jpg.rf.1e1b97a7d0912fd54b27ccd042700548.jpg: 1 duplicate labels removed\n",
            "\u001b[34m\u001b[1mtrain: \u001b[0mWARNING ⚠️ /content/drive/MyDrive/YoloV11_Potholes_Detection/datasets/Detection-Potholes-Classes-7/train/images/IMG_7508_mov-0000_jpg.rf.f5b5b04e95825846d26b1a03c2d75f49.jpg: 1 duplicate labels removed\n",
            "/usr/local/lib/python3.10/dist-packages/albumentations/__init__.py:13: UserWarning: A new version of Albumentations is available: 1.4.17 (you have 1.4.15). Upgrade using: pip install -U albumentations. To disable automatic update checks, set the environment variable NO_ALBUMENTATIONS_UPDATE to 1.\n",
            "  check_for_updates()\n",
            "\u001b[34m\u001b[1malbumentations: \u001b[0mBlur(p=0.01, blur_limit=(3, 7)), MedianBlur(p=0.01, blur_limit=(3, 7)), ToGray(p=0.01, num_output_channels=3, method='weighted_average'), CLAHE(p=0.01, clip_limit=(1, 4.0), tile_grid_size=(8, 8))\n",
            "\u001b[34m\u001b[1mval: \u001b[0mScanning /content/drive/MyDrive/YoloV11_Potholes_Detection/datasets/Detection-Potholes-Classes-7/valid/labels.cache... 312 images, 2 backgrounds, 0 corrupt: 100% 312/312 [00:00<?, ?it/s]\n",
            "Plotting labels to runs/segment/train3/labels.jpg... \n",
            "\u001b[34m\u001b[1moptimizer:\u001b[0m 'optimizer=auto' found, ignoring 'lr0=0.01' and 'momentum=0.937' and determining best 'optimizer', 'lr0' and 'momentum' automatically... \n",
            "\u001b[34m\u001b[1moptimizer:\u001b[0m AdamW(lr=0.001429, momentum=0.9) with parameter groups 92 weight(decay=0.0), 103 weight(decay=0.0005), 102 bias(decay=0.0)\n",
            "\u001b[34m\u001b[1mTensorBoard: \u001b[0mmodel graph visualization added ✅\n",
            "Image sizes 640 train, 640 val\n",
            "Using 2 dataloader workers\n",
            "Logging results to \u001b[1mruns/segment/train3\u001b[0m\n",
            "Starting training for 100 epochs...\n",
            "\n",
            "      Epoch    GPU_mem   box_loss   seg_loss   cls_loss   dfl_loss  Instances       Size\n",
            "      1/100      8.31G       1.07      2.007      1.897       5.17         38        640: 100% 69/69 [00:53<00:00,  1.28it/s]\n",
            "                 Class     Images  Instances      Box(P          R      mAP50  mAP50-95)     Mask(P          R      mAP50  mAP50-95): 100% 10/10 [00:05<00:00,  1.82it/s]\n",
            "                   all        312        923      0.439     0.0743     0.0509     0.0192      0.461     0.0726     0.0579     0.0209\n",
            "\n",
            "      Epoch    GPU_mem   box_loss   seg_loss   cls_loss   dfl_loss  Instances       Size\n",
            "      2/100      8.26G      1.185      1.988       1.68        5.6         36        640: 100% 69/69 [00:53<00:00,  1.30it/s]\n",
            "                 Class     Images  Instances      Box(P          R      mAP50  mAP50-95)     Mask(P          R      mAP50  mAP50-95): 100% 10/10 [00:07<00:00,  1.32it/s]\n",
            "                   all        312        923      0.198      0.146     0.0822     0.0298      0.148     0.0959     0.0585     0.0222\n",
            "\n",
            "      Epoch    GPU_mem   box_loss   seg_loss   cls_loss   dfl_loss  Instances       Size\n",
            "      3/100      8.35G      1.195      2.003      1.639       5.74         57        640: 100% 69/69 [00:51<00:00,  1.34it/s]\n",
            "                 Class     Images  Instances      Box(P          R      mAP50  mAP50-95)     Mask(P          R      mAP50  mAP50-95): 100% 10/10 [00:06<00:00,  1.45it/s]\n",
            "                   all        312        923      0.159      0.216     0.0794     0.0315      0.156      0.185     0.0688     0.0293\n",
            "\n",
            "      Epoch    GPU_mem   box_loss   seg_loss   cls_loss   dfl_loss  Instances       Size\n",
            "      4/100      8.25G      1.202      2.006      1.567       5.64         53        640: 100% 69/69 [00:53<00:00,  1.30it/s]\n",
            "                 Class     Images  Instances      Box(P          R      mAP50  mAP50-95)     Mask(P          R      mAP50  mAP50-95): 100% 10/10 [00:05<00:00,  1.72it/s]\n",
            "                   all        312        923      0.162      0.209      0.097     0.0429      0.157      0.201     0.0843     0.0345\n",
            "\n",
            "      Epoch    GPU_mem   box_loss   seg_loss   cls_loss   dfl_loss  Instances       Size\n",
            "      5/100       8.2G      1.145      1.948      1.496       5.51         66        640: 100% 69/69 [00:52<00:00,  1.30it/s]\n",
            "                 Class     Images  Instances      Box(P          R      mAP50  mAP50-95)     Mask(P          R      mAP50  mAP50-95): 100% 10/10 [00:06<00:00,  1.43it/s]\n",
            "                   all        312        923      0.173       0.24      0.123     0.0585      0.167      0.231      0.116     0.0514\n",
            "\n",
            "      Epoch    GPU_mem   box_loss   seg_loss   cls_loss   dfl_loss  Instances       Size\n",
            "      6/100      8.25G      1.119      1.915       1.45      5.409         43        640: 100% 69/69 [00:51<00:00,  1.34it/s]\n",
            "                 Class     Images  Instances      Box(P          R      mAP50  mAP50-95)     Mask(P          R      mAP50  mAP50-95): 100% 10/10 [00:07<00:00,  1.31it/s]\n",
            "                   all        312        923      0.155      0.304      0.128     0.0564      0.148      0.295       0.13     0.0556\n",
            "\n",
            "      Epoch    GPU_mem   box_loss   seg_loss   cls_loss   dfl_loss  Instances       Size\n",
            "      7/100      8.26G      1.119      1.876      1.421      5.386         47        640: 100% 69/69 [00:52<00:00,  1.31it/s]\n",
            "                 Class     Images  Instances      Box(P          R      mAP50  mAP50-95)     Mask(P          R      mAP50  mAP50-95): 100% 10/10 [00:05<00:00,  1.77it/s]\n",
            "                   all        312        923      0.237      0.284      0.164     0.0786      0.203      0.268      0.144     0.0665\n",
            "\n",
            "      Epoch    GPU_mem   box_loss   seg_loss   cls_loss   dfl_loss  Instances       Size\n",
            "      8/100      8.35G      1.082      1.848      1.382      5.307         43        640: 100% 69/69 [00:52<00:00,  1.31it/s]\n",
            "                 Class     Images  Instances      Box(P          R      mAP50  mAP50-95)     Mask(P          R      mAP50  mAP50-95): 100% 10/10 [00:05<00:00,  1.80it/s]\n",
            "                   all        312        923      0.227      0.312      0.191     0.0976      0.227      0.293      0.177      0.082\n",
            "\n",
            "      Epoch    GPU_mem   box_loss   seg_loss   cls_loss   dfl_loss  Instances       Size\n",
            "      9/100      8.22G       1.07      1.823      1.353      5.177         58        640: 100% 69/69 [00:52<00:00,  1.32it/s]\n",
            "                 Class     Images  Instances      Box(P          R      mAP50  mAP50-95)     Mask(P          R      mAP50  mAP50-95): 100% 10/10 [00:07<00:00,  1.29it/s]\n",
            "                   all        312        923       0.27      0.335      0.224      0.115      0.251      0.323      0.215      0.102\n",
            "\n",
            "      Epoch    GPU_mem   box_loss   seg_loss   cls_loss   dfl_loss  Instances       Size\n",
            "     10/100      8.36G      1.036      1.755      1.313      5.086         42        640: 100% 69/69 [00:52<00:00,  1.32it/s]\n",
            "                 Class     Images  Instances      Box(P          R      mAP50  mAP50-95)     Mask(P          R      mAP50  mAP50-95): 100% 10/10 [00:07<00:00,  1.41it/s]\n",
            "                   all        312        923      0.248      0.378      0.243      0.123      0.232      0.362      0.229      0.109\n",
            "\n",
            "      Epoch    GPU_mem   box_loss   seg_loss   cls_loss   dfl_loss  Instances       Size\n",
            "     11/100      8.34G       1.03      1.754      1.293      5.116         46        640: 100% 69/69 [00:53<00:00,  1.29it/s]\n",
            "                 Class     Images  Instances      Box(P          R      mAP50  mAP50-95)     Mask(P          R      mAP50  mAP50-95): 100% 10/10 [00:05<00:00,  1.81it/s]\n",
            "                   all        312        923      0.348      0.284      0.259      0.138      0.334      0.278       0.25      0.126\n",
            "\n",
            "      Epoch    GPU_mem   box_loss   seg_loss   cls_loss   dfl_loss  Instances       Size\n",
            "     12/100      8.32G      1.011      1.739      1.267       5.09         56        640: 100% 69/69 [00:53<00:00,  1.29it/s]\n",
            "                 Class     Images  Instances      Box(P          R      mAP50  mAP50-95)     Mask(P          R      mAP50  mAP50-95): 100% 10/10 [00:06<00:00,  1.61it/s]\n",
            "                   all        312        923      0.317      0.338      0.253      0.133      0.321      0.314      0.236      0.116\n",
            "\n",
            "      Epoch    GPU_mem   box_loss   seg_loss   cls_loss   dfl_loss  Instances       Size\n",
            "     13/100      8.24G      1.001      1.754      1.276      5.049         35        640: 100% 69/69 [00:50<00:00,  1.36it/s]\n",
            "                 Class     Images  Instances      Box(P          R      mAP50  mAP50-95)     Mask(P          R      mAP50  mAP50-95): 100% 10/10 [00:08<00:00,  1.24it/s]\n",
            "                   all        312        923      0.293      0.321      0.231      0.128      0.293      0.311      0.217       0.11\n",
            "\n",
            "      Epoch    GPU_mem   box_loss   seg_loss   cls_loss   dfl_loss  Instances       Size\n",
            "     14/100      8.28G     0.9851      1.709      1.235      4.942         64        640: 100% 69/69 [00:51<00:00,  1.34it/s]\n",
            "                 Class     Images  Instances      Box(P          R      mAP50  mAP50-95)     Mask(P          R      mAP50  mAP50-95): 100% 10/10 [00:06<00:00,  1.49it/s]\n",
            "                   all        312        923      0.331      0.381      0.266      0.134       0.31      0.364      0.247      0.119\n",
            "\n",
            "      Epoch    GPU_mem   box_loss   seg_loss   cls_loss   dfl_loss  Instances       Size\n",
            "     15/100      8.32G     0.9882      1.678      1.221      4.961         47        640: 100% 69/69 [00:52<00:00,  1.31it/s]\n",
            "                 Class     Images  Instances      Box(P          R      mAP50  mAP50-95)     Mask(P          R      mAP50  mAP50-95): 100% 10/10 [00:05<00:00,  1.82it/s]\n",
            "                   all        312        923      0.334      0.349      0.273      0.144      0.343      0.338      0.262      0.133\n",
            "\n",
            "      Epoch    GPU_mem   box_loss   seg_loss   cls_loss   dfl_loss  Instances       Size\n",
            "     16/100      8.26G     0.9767       1.69      1.208      4.937         38        640: 100% 69/69 [00:52<00:00,  1.30it/s]\n",
            "                 Class     Images  Instances      Box(P          R      mAP50  mAP50-95)     Mask(P          R      mAP50  mAP50-95): 100% 10/10 [00:05<00:00,  1.68it/s]\n",
            "                   all        312        923      0.409      0.367      0.328      0.176      0.422      0.342      0.315      0.162\n",
            "\n",
            "      Epoch    GPU_mem   box_loss   seg_loss   cls_loss   dfl_loss  Instances       Size\n",
            "     17/100      8.23G     0.9691      1.634      1.188      4.886         61        640: 100% 69/69 [00:51<00:00,  1.34it/s]\n",
            "                 Class     Images  Instances      Box(P          R      mAP50  mAP50-95)     Mask(P          R      mAP50  mAP50-95): 100% 10/10 [00:08<00:00,  1.24it/s]\n",
            "                   all        312        923      0.359      0.369      0.304      0.161      0.344      0.365      0.293      0.144\n",
            "\n",
            "      Epoch    GPU_mem   box_loss   seg_loss   cls_loss   dfl_loss  Instances       Size\n",
            "     18/100      8.31G      0.958      1.663      1.191      4.849         72        640: 100% 69/69 [00:51<00:00,  1.33it/s]\n",
            "                 Class     Images  Instances      Box(P          R      mAP50  mAP50-95)     Mask(P          R      mAP50  mAP50-95): 100% 10/10 [00:06<00:00,  1.49it/s]\n",
            "                   all        312        923      0.386      0.359      0.312      0.168      0.376      0.347      0.295      0.149\n",
            "\n",
            "      Epoch    GPU_mem   box_loss   seg_loss   cls_loss   dfl_loss  Instances       Size\n",
            "     19/100      8.27G     0.9526      1.607      1.162      4.806         45        640: 100% 69/69 [00:51<00:00,  1.33it/s]\n",
            "                 Class     Images  Instances      Box(P          R      mAP50  mAP50-95)     Mask(P          R      mAP50  mAP50-95): 100% 10/10 [00:05<00:00,  1.80it/s]\n",
            "                   all        312        923      0.402      0.381      0.332      0.178      0.397      0.364      0.316       0.16\n",
            "\n",
            "      Epoch    GPU_mem   box_loss   seg_loss   cls_loss   dfl_loss  Instances       Size\n",
            "     20/100      8.33G     0.9492      1.607      1.148      4.798         52        640: 100% 69/69 [00:53<00:00,  1.30it/s]\n",
            "                 Class     Images  Instances      Box(P          R      mAP50  mAP50-95)     Mask(P          R      mAP50  mAP50-95): 100% 10/10 [00:05<00:00,  1.75it/s]\n",
            "                   all        312        923      0.349      0.381      0.322       0.18      0.344      0.371      0.308      0.162\n",
            "\n",
            "      Epoch    GPU_mem   box_loss   seg_loss   cls_loss   dfl_loss  Instances       Size\n",
            "     21/100      8.21G     0.9349      1.585      1.133      4.778         37        640: 100% 69/69 [00:52<00:00,  1.31it/s]\n",
            "                 Class     Images  Instances      Box(P          R      mAP50  mAP50-95)     Mask(P          R      mAP50  mAP50-95): 100% 10/10 [00:07<00:00,  1.27it/s]\n",
            "                   all        312        923      0.375      0.388      0.322      0.182      0.404      0.366      0.314      0.162\n",
            "\n",
            "      Epoch    GPU_mem   box_loss   seg_loss   cls_loss   dfl_loss  Instances       Size\n",
            "     22/100      8.26G     0.9263      1.614      1.142      4.777         46        640: 100% 69/69 [00:52<00:00,  1.32it/s]\n",
            "                 Class     Images  Instances      Box(P          R      mAP50  mAP50-95)     Mask(P          R      mAP50  mAP50-95): 100% 10/10 [00:06<00:00,  1.49it/s]\n",
            "                   all        312        923      0.366      0.432      0.341      0.189      0.359      0.426      0.332       0.17\n",
            "\n",
            "      Epoch    GPU_mem   box_loss   seg_loss   cls_loss   dfl_loss  Instances       Size\n",
            "     23/100      8.27G     0.9254      1.593      1.107      4.738         59        640: 100% 69/69 [00:53<00:00,  1.29it/s]\n",
            "                 Class     Images  Instances      Box(P          R      mAP50  mAP50-95)     Mask(P          R      mAP50  mAP50-95): 100% 10/10 [00:05<00:00,  1.81it/s]\n",
            "                   all        312        923      0.357      0.409      0.348       0.19       0.38       0.38      0.333      0.173\n",
            "\n",
            "      Epoch    GPU_mem   box_loss   seg_loss   cls_loss   dfl_loss  Instances       Size\n",
            "     24/100      8.29G     0.8987      1.529       1.09      4.627         39        640: 100% 69/69 [00:53<00:00,  1.28it/s]\n",
            "                 Class     Images  Instances      Box(P          R      mAP50  mAP50-95)     Mask(P          R      mAP50  mAP50-95): 100% 10/10 [00:05<00:00,  1.74it/s]\n",
            "                   all        312        923      0.403      0.387       0.34      0.184      0.405      0.375      0.331      0.171\n",
            "\n",
            "      Epoch    GPU_mem   box_loss   seg_loss   cls_loss   dfl_loss  Instances       Size\n",
            "     25/100      8.28G     0.9202      1.575      1.113      4.709         45        640: 100% 69/69 [00:51<00:00,  1.34it/s]\n",
            "                 Class     Images  Instances      Box(P          R      mAP50  mAP50-95)     Mask(P          R      mAP50  mAP50-95): 100% 10/10 [00:07<00:00,  1.36it/s]\n",
            "                   all        312        923      0.415      0.377      0.349      0.198      0.424      0.359      0.339      0.176\n",
            "\n",
            "      Epoch    GPU_mem   box_loss   seg_loss   cls_loss   dfl_loss  Instances       Size\n",
            "     26/100      8.27G     0.9064      1.554      1.086      4.637         41        640: 100% 69/69 [00:51<00:00,  1.33it/s]\n",
            "                 Class     Images  Instances      Box(P          R      mAP50  mAP50-95)     Mask(P          R      mAP50  mAP50-95): 100% 10/10 [00:06<00:00,  1.48it/s]\n",
            "                   all        312        923      0.365      0.374      0.318      0.169      0.352      0.352      0.298      0.156\n",
            "\n",
            "      Epoch    GPU_mem   box_loss   seg_loss   cls_loss   dfl_loss  Instances       Size\n",
            "     27/100      8.32G     0.8985      1.531      1.083      4.607         46        640: 100% 69/69 [00:52<00:00,  1.31it/s]\n",
            "                 Class     Images  Instances      Box(P          R      mAP50  mAP50-95)     Mask(P          R      mAP50  mAP50-95): 100% 10/10 [00:05<00:00,  1.82it/s]\n",
            "                   all        312        923      0.384      0.391       0.33       0.19       0.39      0.385      0.323      0.177\n",
            "\n",
            "      Epoch    GPU_mem   box_loss   seg_loss   cls_loss   dfl_loss  Instances       Size\n",
            "     28/100      8.28G     0.8864      1.521      1.059       4.56         76        640: 100% 69/69 [00:52<00:00,  1.31it/s]\n",
            "                 Class     Images  Instances      Box(P          R      mAP50  mAP50-95)     Mask(P          R      mAP50  mAP50-95): 100% 10/10 [00:05<00:00,  1.77it/s]\n",
            "                   all        312        923       0.39      0.396      0.348      0.201       0.39      0.396      0.346      0.188\n",
            "\n",
            "      Epoch    GPU_mem   box_loss   seg_loss   cls_loss   dfl_loss  Instances       Size\n",
            "     29/100      8.31G      0.874      1.495      1.059      4.574         44        640: 100% 69/69 [00:53<00:00,  1.29it/s]\n",
            "                 Class     Images  Instances      Box(P          R      mAP50  mAP50-95)     Mask(P          R      mAP50  mAP50-95): 100% 10/10 [00:06<00:00,  1.65it/s]\n",
            "                   all        312        923      0.387      0.427      0.353        0.2      0.373      0.409      0.337      0.179\n",
            "\n",
            "      Epoch    GPU_mem   box_loss   seg_loss   cls_loss   dfl_loss  Instances       Size\n",
            "     30/100      8.26G     0.8749      1.517      1.055      4.564         43        640: 100% 69/69 [00:50<00:00,  1.36it/s]\n",
            "                 Class     Images  Instances      Box(P          R      mAP50  mAP50-95)     Mask(P          R      mAP50  mAP50-95): 100% 10/10 [00:07<00:00,  1.32it/s]\n",
            "                   all        312        923      0.403      0.379      0.354      0.192        0.4      0.354       0.33      0.171\n",
            "\n",
            "      Epoch    GPU_mem   box_loss   seg_loss   cls_loss   dfl_loss  Instances       Size\n",
            "     31/100      8.31G     0.8687      1.495       1.03       4.57         51        640: 100% 69/69 [00:50<00:00,  1.35it/s]\n",
            "                 Class     Images  Instances      Box(P          R      mAP50  mAP50-95)     Mask(P          R      mAP50  mAP50-95): 100% 10/10 [00:07<00:00,  1.40it/s]\n",
            "                   all        312        923      0.392      0.422       0.36      0.203      0.391      0.417       0.35      0.187\n",
            "\n",
            "      Epoch    GPU_mem   box_loss   seg_loss   cls_loss   dfl_loss  Instances       Size\n",
            "     32/100      8.24G     0.8498      1.472      1.016      4.498         37        640: 100% 69/69 [00:53<00:00,  1.29it/s]\n",
            "                 Class     Images  Instances      Box(P          R      mAP50  mAP50-95)     Mask(P          R      mAP50  mAP50-95): 100% 10/10 [00:05<00:00,  1.82it/s]\n",
            "                   all        312        923      0.401      0.438      0.369      0.202      0.401       0.42      0.364      0.188\n",
            "\n",
            "      Epoch    GPU_mem   box_loss   seg_loss   cls_loss   dfl_loss  Instances       Size\n",
            "     33/100       8.2G     0.8361      1.462      1.011      4.453         58        640: 100% 69/69 [00:52<00:00,  1.31it/s]\n",
            "                 Class     Images  Instances      Box(P          R      mAP50  mAP50-95)     Mask(P          R      mAP50  mAP50-95): 100% 10/10 [00:05<00:00,  1.85it/s]\n",
            "                   all        312        923      0.424      0.413      0.383      0.221      0.414      0.408      0.373      0.202\n",
            "\n",
            "      Epoch    GPU_mem   box_loss   seg_loss   cls_loss   dfl_loss  Instances       Size\n",
            "     34/100      8.28G     0.8463      1.487      1.021      4.526         62        640: 100% 69/69 [00:51<00:00,  1.33it/s]\n",
            "                 Class     Images  Instances      Box(P          R      mAP50  mAP50-95)     Mask(P          R      mAP50  mAP50-95): 100% 10/10 [00:07<00:00,  1.33it/s]\n",
            "                   all        312        923      0.443      0.423      0.364      0.209      0.427      0.418      0.349      0.187\n",
            "\n",
            "      Epoch    GPU_mem   box_loss   seg_loss   cls_loss   dfl_loss  Instances       Size\n",
            "     35/100       8.3G     0.8392      1.473      1.003      4.444         91        640: 100% 69/69 [00:50<00:00,  1.36it/s]\n",
            "                 Class     Images  Instances      Box(P          R      mAP50  mAP50-95)     Mask(P          R      mAP50  mAP50-95): 100% 10/10 [00:07<00:00,  1.41it/s]\n",
            "                   all        312        923      0.404      0.439      0.397      0.224      0.408      0.401      0.377        0.2\n",
            "\n",
            "      Epoch    GPU_mem   box_loss   seg_loss   cls_loss   dfl_loss  Instances       Size\n",
            "     36/100      8.28G     0.8124      1.438     0.9623      4.404         45        640: 100% 69/69 [00:52<00:00,  1.32it/s]\n",
            "                 Class     Images  Instances      Box(P          R      mAP50  mAP50-95)     Mask(P          R      mAP50  mAP50-95): 100% 10/10 [00:05<00:00,  1.75it/s]\n",
            "                   all        312        923      0.451      0.422       0.39      0.223      0.451      0.387      0.367      0.197\n",
            "\n",
            "      Epoch    GPU_mem   box_loss   seg_loss   cls_loss   dfl_loss  Instances       Size\n",
            "     37/100      8.25G     0.8224      1.452     0.9762      4.417         70        640: 100% 69/69 [00:52<00:00,  1.32it/s]\n",
            "                 Class     Images  Instances      Box(P          R      mAP50  mAP50-95)     Mask(P          R      mAP50  mAP50-95): 100% 10/10 [00:05<00:00,  1.87it/s]\n",
            "                   all        312        923      0.418      0.416      0.394       0.22      0.424      0.416      0.383      0.206\n",
            "\n",
            "      Epoch    GPU_mem   box_loss   seg_loss   cls_loss   dfl_loss  Instances       Size\n",
            "     38/100      8.32G     0.8141      1.435     0.9764      4.375         46        640: 100% 69/69 [00:51<00:00,  1.33it/s]\n",
            "                 Class     Images  Instances      Box(P          R      mAP50  mAP50-95)     Mask(P          R      mAP50  mAP50-95): 100% 10/10 [00:07<00:00,  1.34it/s]\n",
            "                   all        312        923      0.401      0.412      0.369      0.209      0.399      0.391      0.343      0.178\n",
            "\n",
            "      Epoch    GPU_mem   box_loss   seg_loss   cls_loss   dfl_loss  Instances       Size\n",
            "     39/100      8.28G     0.8133      1.426     0.9728      4.381         68        640: 100% 69/69 [00:50<00:00,  1.36it/s]\n",
            "                 Class     Images  Instances      Box(P          R      mAP50  mAP50-95)     Mask(P          R      mAP50  mAP50-95): 100% 10/10 [00:06<00:00,  1.55it/s]\n",
            "                   all        312        923       0.38      0.431      0.376      0.211      0.356      0.429      0.361       0.19\n",
            "\n",
            "      Epoch    GPU_mem   box_loss   seg_loss   cls_loss   dfl_loss  Instances       Size\n",
            "     40/100      8.37G      0.802      1.423     0.9618      4.342         45        640: 100% 69/69 [00:51<00:00,  1.33it/s]\n",
            "                 Class     Images  Instances      Box(P          R      mAP50  mAP50-95)     Mask(P          R      mAP50  mAP50-95): 100% 10/10 [00:05<00:00,  1.84it/s]\n",
            "                   all        312        923      0.435      0.429      0.405      0.226      0.428      0.424      0.394      0.205\n",
            "\n",
            "      Epoch    GPU_mem   box_loss   seg_loss   cls_loss   dfl_loss  Instances       Size\n",
            "     41/100      8.25G     0.7928      1.405     0.9392      4.305         76        640: 100% 69/69 [00:52<00:00,  1.31it/s]\n",
            "                 Class     Images  Instances      Box(P          R      mAP50  mAP50-95)     Mask(P          R      mAP50  mAP50-95): 100% 10/10 [00:06<00:00,  1.60it/s]\n",
            "                   all        312        923       0.45      0.414      0.407      0.226      0.447      0.393       0.39      0.207\n",
            "\n",
            "      Epoch    GPU_mem   box_loss   seg_loss   cls_loss   dfl_loss  Instances       Size\n",
            "     42/100      8.23G     0.8069      1.398     0.9544      4.384         33        640: 100% 69/69 [00:51<00:00,  1.34it/s]\n",
            "                 Class     Images  Instances      Box(P          R      mAP50  mAP50-95)     Mask(P          R      mAP50  mAP50-95): 100% 10/10 [00:07<00:00,  1.30it/s]\n",
            "                   all        312        923      0.413      0.433      0.384      0.218      0.405      0.422      0.371      0.196\n",
            "\n",
            "      Epoch    GPU_mem   box_loss   seg_loss   cls_loss   dfl_loss  Instances       Size\n",
            "     43/100      8.36G     0.7888      1.398     0.9414      4.286         47        640: 100% 69/69 [00:50<00:00,  1.36it/s]\n",
            "                 Class     Images  Instances      Box(P          R      mAP50  mAP50-95)     Mask(P          R      mAP50  mAP50-95): 100% 10/10 [00:07<00:00,  1.39it/s]\n",
            "                   all        312        923      0.406        0.4      0.378      0.217      0.391      0.394       0.37      0.195\n",
            "\n",
            "      Epoch    GPU_mem   box_loss   seg_loss   cls_loss   dfl_loss  Instances       Size\n",
            "     44/100      8.25G     0.7843      1.364     0.9267      4.269         37        640: 100% 69/69 [00:51<00:00,  1.33it/s]\n",
            "                 Class     Images  Instances      Box(P          R      mAP50  mAP50-95)     Mask(P          R      mAP50  mAP50-95): 100% 10/10 [00:05<00:00,  1.84it/s]\n",
            "                   all        312        923      0.457      0.437      0.398      0.228      0.446       0.42      0.378      0.202\n",
            "\n",
            "      Epoch    GPU_mem   box_loss   seg_loss   cls_loss   dfl_loss  Instances       Size\n",
            "     45/100      8.24G     0.7759      1.364     0.9141      4.257         58        640: 100% 69/69 [00:52<00:00,  1.32it/s]\n",
            "                 Class     Images  Instances      Box(P          R      mAP50  mAP50-95)     Mask(P          R      mAP50  mAP50-95): 100% 10/10 [00:05<00:00,  1.86it/s]\n",
            "                   all        312        923      0.427      0.411      0.368      0.209      0.427      0.404      0.357       0.19\n",
            "\n",
            "      Epoch    GPU_mem   box_loss   seg_loss   cls_loss   dfl_loss  Instances       Size\n",
            "     46/100      8.33G     0.7665      1.358     0.9133      4.189         96        640: 100% 69/69 [00:51<00:00,  1.33it/s]\n",
            "                 Class     Images  Instances      Box(P          R      mAP50  mAP50-95)     Mask(P          R      mAP50  mAP50-95): 100% 10/10 [00:06<00:00,  1.58it/s]\n",
            "                   all        312        923      0.466      0.404      0.407      0.233      0.455        0.4      0.389      0.208\n",
            "\n",
            "      Epoch    GPU_mem   box_loss   seg_loss   cls_loss   dfl_loss  Instances       Size\n",
            "     47/100      8.28G     0.7726      1.357     0.9093      4.241         52        640: 100% 69/69 [00:50<00:00,  1.36it/s]\n",
            "                 Class     Images  Instances      Box(P          R      mAP50  mAP50-95)     Mask(P          R      mAP50  mAP50-95): 100% 10/10 [00:07<00:00,  1.40it/s]\n",
            "                   all        312        923       0.44      0.458      0.411      0.242      0.415      0.449      0.391      0.216\n",
            "\n",
            "      Epoch    GPU_mem   box_loss   seg_loss   cls_loss   dfl_loss  Instances       Size\n",
            "     48/100      8.31G     0.7574      1.352     0.8726      4.172         59        640: 100% 69/69 [00:52<00:00,  1.32it/s]\n",
            "                 Class     Images  Instances      Box(P          R      mAP50  mAP50-95)     Mask(P          R      mAP50  mAP50-95): 100% 10/10 [00:05<00:00,  1.88it/s]\n",
            "                   all        312        923       0.42      0.441      0.386      0.221      0.422      0.443      0.383      0.208\n",
            "\n",
            "      Epoch    GPU_mem   box_loss   seg_loss   cls_loss   dfl_loss  Instances       Size\n",
            "     49/100      8.19G     0.7599      1.331     0.8841      4.204         47        640: 100% 69/69 [00:52<00:00,  1.33it/s]\n",
            "                 Class     Images  Instances      Box(P          R      mAP50  mAP50-95)     Mask(P          R      mAP50  mAP50-95): 100% 10/10 [00:05<00:00,  1.87it/s]\n",
            "                   all        312        923      0.429      0.459      0.401      0.232       0.42      0.447      0.386      0.208\n",
            "\n",
            "      Epoch    GPU_mem   box_loss   seg_loss   cls_loss   dfl_loss  Instances       Size\n",
            "     50/100      8.32G     0.7567      1.368     0.8652      4.228         43        640: 100% 69/69 [00:51<00:00,  1.33it/s]\n",
            "                 Class     Images  Instances      Box(P          R      mAP50  mAP50-95)     Mask(P          R      mAP50  mAP50-95): 100% 10/10 [00:05<00:00,  1.73it/s]\n",
            "                   all        312        923      0.462      0.433      0.409      0.234      0.441      0.435      0.395      0.215\n",
            "\n",
            "      Epoch    GPU_mem   box_loss   seg_loss   cls_loss   dfl_loss  Instances       Size\n",
            "     51/100      8.24G     0.7517      1.336     0.8654      4.148         63        640: 100% 69/69 [00:51<00:00,  1.35it/s]\n",
            "                 Class     Images  Instances      Box(P          R      mAP50  mAP50-95)     Mask(P          R      mAP50  mAP50-95): 100% 10/10 [00:07<00:00,  1.38it/s]\n",
            "                   all        312        923      0.428      0.435      0.383      0.219      0.429      0.411      0.368      0.198\n",
            "\n",
            "      Epoch    GPU_mem   box_loss   seg_loss   cls_loss   dfl_loss  Instances       Size\n",
            "     52/100      8.25G     0.7263       1.29     0.8421      4.053         53        640: 100% 69/69 [00:50<00:00,  1.36it/s]\n",
            "                 Class     Images  Instances      Box(P          R      mAP50  mAP50-95)     Mask(P          R      mAP50  mAP50-95): 100% 10/10 [00:07<00:00,  1.42it/s]\n",
            "                   all        312        923      0.446      0.444      0.395      0.227      0.432      0.428      0.376      0.201\n",
            "\n",
            "      Epoch    GPU_mem   box_loss   seg_loss   cls_loss   dfl_loss  Instances       Size\n",
            "     53/100      8.25G     0.7244      1.291      0.847      4.063         55        640: 100% 69/69 [00:51<00:00,  1.33it/s]\n",
            "                 Class     Images  Instances      Box(P          R      mAP50  mAP50-95)     Mask(P          R      mAP50  mAP50-95): 100% 10/10 [00:05<00:00,  1.83it/s]\n",
            "                   all        312        923      0.423      0.463      0.414       0.24      0.436      0.441      0.401      0.215\n",
            "\n",
            "      Epoch    GPU_mem   box_loss   seg_loss   cls_loss   dfl_loss  Instances       Size\n",
            "     54/100      8.31G      0.727      1.295     0.8419      4.046         47        640: 100% 69/69 [00:51<00:00,  1.34it/s]\n",
            "                 Class     Images  Instances      Box(P          R      mAP50  mAP50-95)     Mask(P          R      mAP50  mAP50-95): 100% 10/10 [00:05<00:00,  1.89it/s]\n",
            "                   all        312        923      0.406      0.447      0.399      0.223      0.418      0.424      0.385      0.201\n",
            "\n",
            "      Epoch    GPU_mem   box_loss   seg_loss   cls_loss   dfl_loss  Instances       Size\n",
            "     55/100      8.29G     0.7258      1.297      0.831      4.059         47        640: 100% 69/69 [00:52<00:00,  1.32it/s]\n",
            "                 Class     Images  Instances      Box(P          R      mAP50  mAP50-95)     Mask(P          R      mAP50  mAP50-95): 100% 10/10 [00:05<00:00,  1.90it/s]\n",
            "                   all        312        923      0.465      0.425      0.402      0.227      0.456      0.417      0.392      0.204\n",
            "\n",
            "      Epoch    GPU_mem   box_loss   seg_loss   cls_loss   dfl_loss  Instances       Size\n",
            "     56/100      8.29G     0.7059      1.267      0.822      3.995         43        640: 100% 69/69 [00:51<00:00,  1.34it/s]\n",
            "                 Class     Images  Instances      Box(P          R      mAP50  mAP50-95)     Mask(P          R      mAP50  mAP50-95): 100% 10/10 [00:06<00:00,  1.60it/s]\n",
            "                   all        312        923      0.476      0.435       0.43      0.246      0.505      0.412      0.415      0.221\n",
            "\n",
            "      Epoch    GPU_mem   box_loss   seg_loss   cls_loss   dfl_loss  Instances       Size\n",
            "     57/100      8.21G      0.717      1.296     0.8269       4.02         52        640: 100% 69/69 [00:50<00:00,  1.35it/s]\n",
            "                 Class     Images  Instances      Box(P          R      mAP50  mAP50-95)     Mask(P          R      mAP50  mAP50-95): 100% 10/10 [00:07<00:00,  1.36it/s]\n",
            "                   all        312        923      0.484      0.457      0.441      0.254      0.527      0.391      0.423      0.227\n",
            "\n",
            "      Epoch    GPU_mem   box_loss   seg_loss   cls_loss   dfl_loss  Instances       Size\n",
            "     58/100       8.3G     0.7178      1.281     0.8062      4.022         49        640: 100% 69/69 [00:52<00:00,  1.31it/s]\n",
            "                 Class     Images  Instances      Box(P          R      mAP50  mAP50-95)     Mask(P          R      mAP50  mAP50-95): 100% 10/10 [00:05<00:00,  1.71it/s]\n",
            "                   all        312        923       0.44      0.479      0.423      0.247       0.43       0.46      0.411      0.224\n",
            "\n",
            "      Epoch    GPU_mem   box_loss   seg_loss   cls_loss   dfl_loss  Instances       Size\n",
            "     59/100      8.33G     0.7035      1.265     0.8084      4.032         66        640: 100% 69/69 [00:52<00:00,  1.32it/s]\n",
            "                 Class     Images  Instances      Box(P          R      mAP50  mAP50-95)     Mask(P          R      mAP50  mAP50-95): 100% 10/10 [00:05<00:00,  1.87it/s]\n",
            "                   all        312        923       0.46      0.447       0.42      0.241       0.46      0.427      0.409      0.221\n",
            "\n",
            "      Epoch    GPU_mem   box_loss   seg_loss   cls_loss   dfl_loss  Instances       Size\n",
            "     60/100      8.33G      0.703      1.271     0.7965      3.998         50        640: 100% 69/69 [00:52<00:00,  1.31it/s]\n",
            "                 Class     Images  Instances      Box(P          R      mAP50  mAP50-95)     Mask(P          R      mAP50  mAP50-95): 100% 10/10 [00:05<00:00,  1.87it/s]\n",
            "                   all        312        923      0.424      0.464      0.413      0.241      0.421       0.45      0.405      0.219\n",
            "\n",
            "      Epoch    GPU_mem   box_loss   seg_loss   cls_loss   dfl_loss  Instances       Size\n",
            "     61/100      8.22G     0.6748      1.233     0.7691      3.907         54        640: 100% 69/69 [00:51<00:00,  1.33it/s]\n",
            "                 Class     Images  Instances      Box(P          R      mAP50  mAP50-95)     Mask(P          R      mAP50  mAP50-95): 100% 10/10 [00:06<00:00,  1.61it/s]\n",
            "                   all        312        923      0.434      0.449      0.417      0.244      0.447      0.423      0.406      0.223\n",
            "\n",
            "      Epoch    GPU_mem   box_loss   seg_loss   cls_loss   dfl_loss  Instances       Size\n",
            "     62/100      8.34G     0.6699      1.249     0.7639      3.903         60        640: 100% 69/69 [00:51<00:00,  1.35it/s]\n",
            "                 Class     Images  Instances      Box(P          R      mAP50  mAP50-95)     Mask(P          R      mAP50  mAP50-95): 100% 10/10 [00:07<00:00,  1.33it/s]\n",
            "                   all        312        923      0.418      0.453        0.4      0.233      0.421      0.422      0.393      0.213\n",
            "\n",
            "      Epoch    GPU_mem   box_loss   seg_loss   cls_loss   dfl_loss  Instances       Size\n",
            "     63/100      8.26G     0.6745      1.221     0.7616      3.879         59        640: 100% 69/69 [00:50<00:00,  1.36it/s]\n",
            "                 Class     Images  Instances      Box(P          R      mAP50  mAP50-95)     Mask(P          R      mAP50  mAP50-95): 100% 10/10 [00:06<00:00,  1.51it/s]\n",
            "                   all        312        923      0.454      0.457      0.422      0.245      0.439      0.454      0.416      0.222\n",
            "\n",
            "      Epoch    GPU_mem   box_loss   seg_loss   cls_loss   dfl_loss  Instances       Size\n",
            "     64/100      8.27G     0.6693      1.224     0.7542      3.874         62        640: 100% 69/69 [00:52<00:00,  1.32it/s]\n",
            "                 Class     Images  Instances      Box(P          R      mAP50  mAP50-95)     Mask(P          R      mAP50  mAP50-95): 100% 10/10 [00:05<00:00,  1.71it/s]\n",
            "                   all        312        923      0.483      0.439      0.425      0.246      0.482      0.439      0.416      0.223\n",
            "\n",
            "      Epoch    GPU_mem   box_loss   seg_loss   cls_loss   dfl_loss  Instances       Size\n",
            "     65/100      8.18G     0.6617      1.206     0.7451      3.874         60        640: 100% 69/69 [00:52<00:00,  1.33it/s]\n",
            "                 Class     Images  Instances      Box(P          R      mAP50  mAP50-95)     Mask(P          R      mAP50  mAP50-95): 100% 10/10 [00:05<00:00,  1.83it/s]\n",
            "                   all        312        923      0.454      0.452      0.427      0.248      0.464      0.429      0.406      0.222\n",
            "\n",
            "      Epoch    GPU_mem   box_loss   seg_loss   cls_loss   dfl_loss  Instances       Size\n",
            "     66/100      8.35G     0.6634      1.218      0.736      3.828         33        640: 100% 69/69 [00:52<00:00,  1.31it/s]\n",
            "                 Class     Images  Instances      Box(P          R      mAP50  mAP50-95)     Mask(P          R      mAP50  mAP50-95): 100% 10/10 [00:05<00:00,  1.88it/s]\n",
            "                   all        312        923      0.495      0.441      0.444      0.258        0.5      0.427      0.434      0.237\n",
            "\n",
            "      Epoch    GPU_mem   box_loss   seg_loss   cls_loss   dfl_loss  Instances       Size\n",
            "     67/100      8.27G     0.6571      1.201     0.7322      3.843         46        640: 100% 69/69 [00:52<00:00,  1.31it/s]\n",
            "                 Class     Images  Instances      Box(P          R      mAP50  mAP50-95)     Mask(P          R      mAP50  mAP50-95): 100% 10/10 [00:06<00:00,  1.54it/s]\n",
            "                   all        312        923      0.464       0.45      0.408      0.232      0.459      0.445      0.401      0.214\n",
            "\n",
            "      Epoch    GPU_mem   box_loss   seg_loss   cls_loss   dfl_loss  Instances       Size\n",
            "     68/100      8.25G     0.6509      1.186     0.7232       3.84         40        640: 100% 69/69 [00:51<00:00,  1.34it/s]\n",
            "                 Class     Images  Instances      Box(P          R      mAP50  mAP50-95)     Mask(P          R      mAP50  mAP50-95): 100% 10/10 [00:07<00:00,  1.28it/s]\n",
            "                   all        312        923      0.462      0.455      0.419      0.245      0.474      0.452      0.415       0.23\n",
            "\n",
            "      Epoch    GPU_mem   box_loss   seg_loss   cls_loss   dfl_loss  Instances       Size\n",
            "     69/100      8.22G     0.6499      1.201     0.7125       3.79         55        640: 100% 69/69 [00:51<00:00,  1.35it/s]\n",
            "                 Class     Images  Instances      Box(P          R      mAP50  mAP50-95)     Mask(P          R      mAP50  mAP50-95): 100% 10/10 [00:07<00:00,  1.41it/s]\n",
            "                   all        312        923      0.472      0.437      0.421      0.249      0.469      0.428      0.411      0.226\n",
            "\n",
            "      Epoch    GPU_mem   box_loss   seg_loss   cls_loss   dfl_loss  Instances       Size\n",
            "     70/100       8.3G     0.6455      1.193     0.7132      3.768         41        640: 100% 69/69 [00:52<00:00,  1.32it/s]\n",
            "                 Class     Images  Instances      Box(P          R      mAP50  mAP50-95)     Mask(P          R      mAP50  mAP50-95): 100% 10/10 [00:05<00:00,  1.74it/s]\n",
            "                   all        312        923      0.463      0.453      0.427      0.244      0.465      0.433      0.414      0.226\n",
            "\n",
            "      Epoch    GPU_mem   box_loss   seg_loss   cls_loss   dfl_loss  Instances       Size\n",
            "     71/100      8.33G     0.6295      1.178     0.6965       3.75         61        640: 100% 69/69 [00:52<00:00,  1.32it/s]\n",
            "                 Class     Images  Instances      Box(P          R      mAP50  mAP50-95)     Mask(P          R      mAP50  mAP50-95): 100% 10/10 [00:05<00:00,  1.86it/s]\n",
            "                   all        312        923       0.49      0.427      0.425      0.254      0.483      0.423      0.417      0.233\n",
            "\n",
            "      Epoch    GPU_mem   box_loss   seg_loss   cls_loss   dfl_loss  Instances       Size\n",
            "     72/100      8.28G     0.6345      1.167     0.7042      3.801         30        640: 100% 69/69 [00:51<00:00,  1.33it/s]\n",
            "                 Class     Images  Instances      Box(P          R      mAP50  mAP50-95)     Mask(P          R      mAP50  mAP50-95): 100% 10/10 [00:05<00:00,  1.84it/s]\n",
            "                   all        312        923      0.464      0.439      0.421      0.247      0.466      0.424      0.405      0.223\n",
            "\n",
            "      Epoch    GPU_mem   box_loss   seg_loss   cls_loss   dfl_loss  Instances       Size\n",
            "     73/100      8.17G     0.6137       1.16     0.6958       3.72         36        640: 100% 69/69 [00:52<00:00,  1.32it/s]\n",
            "                 Class     Images  Instances      Box(P          R      mAP50  mAP50-95)     Mask(P          R      mAP50  mAP50-95): 100% 10/10 [00:05<00:00,  1.74it/s]\n",
            "                   all        312        923      0.468      0.435      0.413      0.241      0.502      0.395      0.397      0.216\n",
            "\n",
            "      Epoch    GPU_mem   box_loss   seg_loss   cls_loss   dfl_loss  Instances       Size\n",
            "     74/100      8.28G      0.619       1.18     0.6799      3.753         59        640: 100% 69/69 [00:51<00:00,  1.35it/s]\n",
            "                 Class     Images  Instances      Box(P          R      mAP50  mAP50-95)     Mask(P          R      mAP50  mAP50-95): 100% 10/10 [00:07<00:00,  1.26it/s]\n",
            "                   all        312        923       0.45      0.471      0.418      0.248      0.449       0.44      0.409      0.223\n",
            "\n",
            "      Epoch    GPU_mem   box_loss   seg_loss   cls_loss   dfl_loss  Instances       Size\n",
            "     75/100      8.27G     0.6122      1.161     0.6803      3.706         31        640: 100% 69/69 [00:51<00:00,  1.34it/s]\n",
            "                 Class     Images  Instances      Box(P          R      mAP50  mAP50-95)     Mask(P          R      mAP50  mAP50-95): 100% 10/10 [00:07<00:00,  1.38it/s]\n",
            "                   all        312        923      0.495      0.463      0.455      0.268      0.479       0.45      0.434      0.239\n",
            "\n",
            "      Epoch    GPU_mem   box_loss   seg_loss   cls_loss   dfl_loss  Instances       Size\n",
            "     76/100      8.28G     0.6111      1.152     0.6739      3.713         45        640: 100% 69/69 [00:52<00:00,  1.31it/s]\n",
            "                 Class     Images  Instances      Box(P          R      mAP50  mAP50-95)     Mask(P          R      mAP50  mAP50-95): 100% 10/10 [00:05<00:00,  1.81it/s]\n",
            "                   all        312        923      0.467      0.459      0.427      0.252      0.455      0.451      0.413      0.229\n",
            "\n",
            "      Epoch    GPU_mem   box_loss   seg_loss   cls_loss   dfl_loss  Instances       Size\n",
            "     77/100      8.27G      0.607      1.119     0.6674      3.664         33        640: 100% 69/69 [00:52<00:00,  1.32it/s]\n",
            "                 Class     Images  Instances      Box(P          R      mAP50  mAP50-95)     Mask(P          R      mAP50  mAP50-95): 100% 10/10 [00:05<00:00,  1.83it/s]\n",
            "                   all        312        923      0.459      0.476      0.443      0.256      0.483      0.446      0.431      0.231\n",
            "\n",
            "      Epoch    GPU_mem   box_loss   seg_loss   cls_loss   dfl_loss  Instances       Size\n",
            "     78/100      8.27G     0.5973      1.129     0.6395      3.621         55        640: 100% 69/69 [00:52<00:00,  1.32it/s]\n",
            "                 Class     Images  Instances      Box(P          R      mAP50  mAP50-95)     Mask(P          R      mAP50  mAP50-95): 100% 10/10 [00:05<00:00,  1.90it/s]\n",
            "                   all        312        923      0.496       0.45      0.438      0.259      0.491      0.437      0.423      0.235\n",
            "\n",
            "      Epoch    GPU_mem   box_loss   seg_loss   cls_loss   dfl_loss  Instances       Size\n",
            "     79/100      8.39G     0.5867       1.11     0.6308        3.6         54        640: 100% 69/69 [00:52<00:00,  1.32it/s]\n",
            "                 Class     Images  Instances      Box(P          R      mAP50  mAP50-95)     Mask(P          R      mAP50  mAP50-95): 100% 10/10 [00:05<00:00,  1.77it/s]\n",
            "                   all        312        923      0.509      0.437      0.435      0.253      0.506      0.421      0.416      0.229\n",
            "\n",
            "      Epoch    GPU_mem   box_loss   seg_loss   cls_loss   dfl_loss  Instances       Size\n",
            "     80/100      8.22G     0.5781      1.101     0.6181       3.62         43        640: 100% 69/69 [00:51<00:00,  1.35it/s]\n",
            "                 Class     Images  Instances      Box(P          R      mAP50  mAP50-95)     Mask(P          R      mAP50  mAP50-95): 100% 10/10 [00:07<00:00,  1.30it/s]\n",
            "                   all        312        923      0.521      0.446      0.454      0.269      0.546      0.425      0.443      0.245\n",
            "\n",
            "      Epoch    GPU_mem   box_loss   seg_loss   cls_loss   dfl_loss  Instances       Size\n",
            "     81/100      8.24G     0.5965       1.13     0.6361      3.653         69        640: 100% 69/69 [00:53<00:00,  1.29it/s]\n",
            "                 Class     Images  Instances      Box(P          R      mAP50  mAP50-95)     Mask(P          R      mAP50  mAP50-95): 100% 10/10 [00:07<00:00,  1.42it/s]\n",
            "                   all        312        923      0.487      0.461      0.435      0.259      0.482      0.451      0.426      0.235\n",
            "\n",
            "      Epoch    GPU_mem   box_loss   seg_loss   cls_loss   dfl_loss  Instances       Size\n",
            "     82/100      8.27G     0.5775      1.092     0.6108      3.583         53        640: 100% 69/69 [00:53<00:00,  1.28it/s]\n",
            "                 Class     Images  Instances      Box(P          R      mAP50  mAP50-95)     Mask(P          R      mAP50  mAP50-95): 100% 10/10 [00:05<00:00,  1.87it/s]\n",
            "                   all        312        923      0.515       0.44      0.452      0.265      0.506      0.437      0.441      0.239\n",
            "\n",
            "      Epoch    GPU_mem   box_loss   seg_loss   cls_loss   dfl_loss  Instances       Size\n",
            "     83/100      8.29G       0.59      1.097     0.6177      3.628         58        640: 100% 69/69 [00:52<00:00,  1.31it/s]\n",
            "                 Class     Images  Instances      Box(P          R      mAP50  mAP50-95)     Mask(P          R      mAP50  mAP50-95): 100% 10/10 [00:06<00:00,  1.55it/s]\n",
            "                   all        312        923      0.489      0.437      0.434      0.257      0.485      0.425       0.42      0.234\n",
            "\n",
            "      Epoch    GPU_mem   box_loss   seg_loss   cls_loss   dfl_loss  Instances       Size\n",
            "     84/100      8.28G     0.5703      1.094      0.607      3.566         54        640: 100% 69/69 [00:52<00:00,  1.31it/s]\n",
            "                 Class     Images  Instances      Box(P          R      mAP50  mAP50-95)     Mask(P          R      mAP50  mAP50-95): 100% 10/10 [00:07<00:00,  1.29it/s]\n",
            "                   all        312        923      0.525      0.432      0.435      0.253       0.52      0.429      0.427      0.232\n",
            "\n",
            "      Epoch    GPU_mem   box_loss   seg_loss   cls_loss   dfl_loss  Instances       Size\n",
            "     85/100      8.18G       0.57      1.079     0.6111      3.564         44        640: 100% 69/69 [00:55<00:00,  1.25it/s]\n",
            "                 Class     Images  Instances      Box(P          R      mAP50  mAP50-95)     Mask(P          R      mAP50  mAP50-95): 100% 10/10 [00:05<00:00,  1.77it/s]\n",
            "                   all        312        923      0.506      0.456      0.444       0.26       0.52      0.437      0.437      0.238\n",
            "\n",
            "      Epoch    GPU_mem   box_loss   seg_loss   cls_loss   dfl_loss  Instances       Size\n",
            "     86/100      8.28G     0.5678      1.089      0.605       3.58         62        640: 100% 69/69 [00:53<00:00,  1.30it/s]\n",
            "                 Class     Images  Instances      Box(P          R      mAP50  mAP50-95)     Mask(P          R      mAP50  mAP50-95): 100% 10/10 [00:05<00:00,  1.87it/s]\n",
            "                   all        312        923      0.506      0.444      0.444      0.262      0.515      0.435      0.438      0.242\n",
            "\n",
            "      Epoch    GPU_mem   box_loss   seg_loss   cls_loss   dfl_loss  Instances       Size\n",
            "     87/100      8.26G     0.5631      1.053     0.5894      3.518         66        640: 100% 69/69 [00:53<00:00,  1.29it/s]\n",
            "                 Class     Images  Instances      Box(P          R      mAP50  mAP50-95)     Mask(P          R      mAP50  mAP50-95): 100% 10/10 [00:05<00:00,  1.89it/s]\n",
            "                   all        312        923      0.451      0.463      0.423      0.253      0.463      0.443      0.417      0.232\n",
            "\n",
            "      Epoch    GPU_mem   box_loss   seg_loss   cls_loss   dfl_loss  Instances       Size\n",
            "     88/100      8.31G     0.5666      1.092     0.5877      3.595         44        640: 100% 69/69 [00:52<00:00,  1.32it/s]\n",
            "                 Class     Images  Instances      Box(P          R      mAP50  mAP50-95)     Mask(P          R      mAP50  mAP50-95): 100% 10/10 [00:06<00:00,  1.63it/s]\n",
            "                   all        312        923      0.519      0.449      0.455      0.269      0.519      0.447      0.443      0.244\n",
            "\n",
            "      Epoch    GPU_mem   box_loss   seg_loss   cls_loss   dfl_loss  Instances       Size\n",
            "     89/100      8.14G     0.5603      1.054     0.5772      3.519         63        640: 100% 69/69 [00:52<00:00,  1.33it/s]\n",
            "                 Class     Images  Instances      Box(P          R      mAP50  mAP50-95)     Mask(P          R      mAP50  mAP50-95): 100% 10/10 [00:07<00:00,  1.31it/s]\n",
            "                   all        312        923      0.495      0.455      0.444      0.267      0.533      0.412       0.43      0.243\n",
            "\n",
            "      Epoch    GPU_mem   box_loss   seg_loss   cls_loss   dfl_loss  Instances       Size\n",
            "     90/100      8.34G     0.5463      1.058     0.5763       3.51         40        640: 100% 69/69 [00:51<00:00,  1.35it/s]\n",
            "                 Class     Images  Instances      Box(P          R      mAP50  mAP50-95)     Mask(P          R      mAP50  mAP50-95): 100% 10/10 [00:07<00:00,  1.43it/s]\n",
            "                   all        312        923      0.502      0.463      0.453      0.269       0.54      0.428      0.445      0.244\n",
            "Closing dataloader mosaic\n",
            "\u001b[34m\u001b[1malbumentations: \u001b[0mBlur(p=0.01, blur_limit=(3, 7)), MedianBlur(p=0.01, blur_limit=(3, 7)), ToGray(p=0.01, num_output_channels=3, method='weighted_average'), CLAHE(p=0.01, clip_limit=(1, 4.0), tile_grid_size=(8, 8))\n",
            "\n",
            "      Epoch    GPU_mem   box_loss   seg_loss   cls_loss   dfl_loss  Instances       Size\n",
            "     91/100      8.22G     0.5309      1.046     0.5755      3.421         17        640: 100% 69/69 [00:52<00:00,  1.31it/s]\n",
            "                 Class     Images  Instances      Box(P          R      mAP50  mAP50-95)     Mask(P          R      mAP50  mAP50-95): 100% 10/10 [00:06<00:00,  1.62it/s]\n",
            "                   all        312        923      0.468      0.446      0.418      0.246      0.505      0.412       0.41       0.23\n",
            "\n",
            "      Epoch    GPU_mem   box_loss   seg_loss   cls_loss   dfl_loss  Instances       Size\n",
            "     92/100      8.18G       0.51      1.023     0.5211      3.389         22        640: 100% 69/69 [00:51<00:00,  1.34it/s]\n",
            "                 Class     Images  Instances      Box(P          R      mAP50  mAP50-95)     Mask(P          R      mAP50  mAP50-95): 100% 10/10 [00:06<00:00,  1.63it/s]\n",
            "                   all        312        923        0.5      0.462      0.444      0.259      0.521      0.439      0.435      0.242\n",
            "\n",
            "      Epoch    GPU_mem   box_loss   seg_loss   cls_loss   dfl_loss  Instances       Size\n",
            "     93/100      8.16G     0.5021     0.9951     0.5001       3.35         35        640: 100% 69/69 [00:51<00:00,  1.34it/s]\n",
            "                 Class     Images  Instances      Box(P          R      mAP50  mAP50-95)     Mask(P          R      mAP50  mAP50-95): 100% 10/10 [00:05<00:00,  1.84it/s]\n",
            "                   all        312        923      0.498      0.448      0.432      0.256      0.519      0.431      0.425      0.235\n",
            "\n",
            "      Epoch    GPU_mem   box_loss   seg_loss   cls_loss   dfl_loss  Instances       Size\n",
            "     94/100      8.19G     0.4936      0.988     0.4944      3.321         11        640: 100% 69/69 [00:51<00:00,  1.34it/s]\n",
            "                 Class     Images  Instances      Box(P          R      mAP50  mAP50-95)     Mask(P          R      mAP50  mAP50-95): 100% 10/10 [00:05<00:00,  1.71it/s]\n",
            "                   all        312        923      0.517      0.459      0.443      0.258      0.519      0.452      0.437      0.239\n",
            "\n",
            "      Epoch    GPU_mem   box_loss   seg_loss   cls_loss   dfl_loss  Instances       Size\n",
            "     95/100      8.21G      0.482     0.9723      0.482      3.293         25        640: 100% 69/69 [00:53<00:00,  1.30it/s]\n",
            "                 Class     Images  Instances      Box(P          R      mAP50  mAP50-95)     Mask(P          R      mAP50  mAP50-95): 100% 10/10 [00:05<00:00,  1.78it/s]\n",
            "                   all        312        923      0.496      0.462      0.442      0.261       0.49      0.465      0.436      0.242\n",
            "\n",
            "      Epoch    GPU_mem   box_loss   seg_loss   cls_loss   dfl_loss  Instances       Size\n",
            "     96/100       8.2G     0.4764     0.9726     0.4754      3.289         24        640: 100% 69/69 [00:53<00:00,  1.29it/s]\n",
            "                 Class     Images  Instances      Box(P          R      mAP50  mAP50-95)     Mask(P          R      mAP50  mAP50-95): 100% 10/10 [00:05<00:00,  1.75it/s]\n",
            "                   all        312        923      0.509      0.458      0.443      0.263      0.499      0.452      0.434      0.242\n",
            "\n",
            "      Epoch    GPU_mem   box_loss   seg_loss   cls_loss   dfl_loss  Instances       Size\n",
            "     97/100      8.14G     0.4651     0.9455     0.4567      3.248         54        640: 100% 69/69 [00:52<00:00,  1.32it/s]\n",
            "                 Class     Images  Instances      Box(P          R      mAP50  mAP50-95)     Mask(P          R      mAP50  mAP50-95): 100% 10/10 [00:06<00:00,  1.64it/s]\n",
            "                   all        312        923      0.492       0.47      0.445      0.263      0.496       0.45      0.436      0.243\n",
            "\n",
            "      Epoch    GPU_mem   box_loss   seg_loss   cls_loss   dfl_loss  Instances       Size\n",
            "     98/100       8.2G     0.4662     0.9442     0.4551      3.242         22        640: 100% 69/69 [00:52<00:00,  1.32it/s]\n",
            "                 Class     Images  Instances      Box(P          R      mAP50  mAP50-95)     Mask(P          R      mAP50  mAP50-95): 100% 10/10 [00:05<00:00,  1.83it/s]\n",
            "                   all        312        923      0.481      0.478      0.446      0.265      0.485      0.458       0.44      0.244\n",
            "\n",
            "      Epoch    GPU_mem   box_loss   seg_loss   cls_loss   dfl_loss  Instances       Size\n",
            "     99/100      8.22G     0.4516      0.954     0.4526       3.21         27        640: 100% 69/69 [00:51<00:00,  1.34it/s]\n",
            "                 Class     Images  Instances      Box(P          R      mAP50  mAP50-95)     Mask(P          R      mAP50  mAP50-95): 100% 10/10 [00:05<00:00,  1.82it/s]\n",
            "                   all        312        923       0.51      0.447      0.445      0.266       0.51      0.446      0.439      0.246\n",
            "\n",
            "      Epoch    GPU_mem   box_loss   seg_loss   cls_loss   dfl_loss  Instances       Size\n",
            "    100/100      8.27G     0.4534     0.9421     0.4389      3.208         18        640: 100% 69/69 [00:51<00:00,  1.33it/s]\n",
            "                 Class     Images  Instances      Box(P          R      mAP50  mAP50-95)     Mask(P          R      mAP50  mAP50-95): 100% 10/10 [00:05<00:00,  1.81it/s]\n",
            "                   all        312        923      0.497      0.455      0.444      0.264      0.492      0.447      0.439      0.243\n",
            "\n",
            "100 epochs completed in 1.676 hours.\n",
            "Optimizer stripped from runs/segment/train3/weights/last.pt, 49.6MB\n",
            "Optimizer stripped from runs/segment/train3/weights/best.pt, 49.6MB\n",
            "\n",
            "Validating runs/segment/train3/weights/best.pt...\n",
            "Ultralytics 8.3.5 🚀 Python-3.10.12 torch-2.4.1+cu121 CUDA:0 (Tesla T4, 15102MiB)\n",
            "YOLOv8m-seg summary (fused): 263 layers, 24,587,193 parameters, 0 gradients, 98.7 GFLOPs\n",
            "                 Class     Images  Instances      Box(P          R      mAP50  mAP50-95)     Mask(P          R      mAP50  mAP50-95): 100% 10/10 [00:09<00:00,  1.02it/s]\n",
            "                   all        312        923      0.521      0.446      0.454      0.268      0.538      0.428      0.444      0.245\n",
            "        medium-pothole        179        337      0.474       0.38      0.389       0.23      0.506      0.371      0.384      0.209\n",
            "          risk-pothole        159        249       0.67      0.618      0.661      0.435      0.681      0.606      0.657       0.41\n",
            "          safe-pothole        143        337      0.418      0.338      0.313      0.139      0.426      0.306      0.291      0.117\n",
            "Speed: 0.2ms preprocess, 9.8ms inference, 0.0ms loss, 5.4ms postprocess per image\n",
            "Results saved to \u001b[1mruns/segment/train3\u001b[0m\n",
            "💡 Learn more at https://docs.ultralytics.com/modes/train\n"
          ]
        }
      ]
    },
    {
      "cell_type": "code",
      "source": [
        "model_path = \"/content/drive/MyDrive/YoloV11_Potholes_Detection/runs/segment/train3/weights/best.pt\""
      ],
      "metadata": {
        "id": "5qk1GEm5VXco"
      },
      "execution_count": 5,
      "outputs": []
    },
    {
      "cell_type": "code",
      "source": [
        "data_yaml_path = \"/content/drive/MyDrive/YoloV11_Potholes_Detection/datasets/Detection-Potholes-Classes-7/data.yaml\""
      ],
      "metadata": {
        "id": "G9ueS73VWJVI"
      },
      "execution_count": 22,
      "outputs": []
    },
    {
      "cell_type": "code",
      "source": [
        "%cd {HOME}\n",
        "!yolo task=segment mode=val model={model_path} conf=0.7 iou=0.7 data={data_yaml_path}"
      ],
      "metadata": {
        "colab": {
          "base_uri": "https://localhost:8080/"
        },
        "id": "0Uk5X0nJV_eM",
        "outputId": "a608cb7e-1b58-4f4d-fca5-1b310dd11dae"
      },
      "execution_count": 34,
      "outputs": [
        {
          "output_type": "stream",
          "name": "stdout",
          "text": [
            "/content/drive/MyDrive/YoloV11_Potholes_Detection\n",
            "Ultralytics 8.3.5 🚀 Python-3.10.12 torch-2.4.1+cu121 CUDA:0 (Tesla T4, 15102MiB)\n",
            "YOLOv8m-seg summary (fused): 263 layers, 24,587,193 parameters, 0 gradients, 98.7 GFLOPs\n",
            "\u001b[34m\u001b[1mval: \u001b[0mScanning /content/drive/MyDrive/YoloV11_Potholes_Detection/datasets/Detection-Potholes-Classes-7/valid/labels.cache... 312 images, 2 backgrounds, 0 corrupt: 100% 312/312 [00:00<?, ?it/s]\n",
            "                 Class     Images  Instances      Box(P          R      mAP50  mAP50-95)     Mask(P          R      mAP50  mAP50-95): 100% 20/20 [00:11<00:00,  1.71it/s]\n",
            "                   all        312        923      0.748      0.252        0.5       0.36      0.748      0.254        0.5      0.334\n",
            "        medium-pothole        179        337      0.734      0.139      0.436      0.358      0.734      0.139      0.436       0.33\n",
            "          risk-pothole        159        249      0.843      0.474      0.663      0.497      0.857      0.482      0.672      0.474\n",
            "          safe-pothole        143        337      0.667      0.142      0.401      0.223      0.653      0.139      0.392      0.199\n",
            "Speed: 2.1ms preprocess, 18.2ms inference, 0.0ms loss, 3.9ms postprocess per image\n",
            "Results saved to \u001b[1mruns/segment/val3\u001b[0m\n",
            "💡 Learn more at https://docs.ultralytics.com/modes/val\n"
          ]
        }
      ]
    },
    {
      "cell_type": "code",
      "source": [
        "from roboflow import Roboflow\n",
        "rf = Roboflow(api_key=\"wZjRSm2COEhivHpubFLO\")\n",
        "project = rf.workspace(\"potholesdetection-aq76f\").project(\"detection-potholes-classes\")\n",
        "version = project.version(6)\n",
        "dataset = version.download(\"yolov8\")\n",
        ""
      ],
      "metadata": {
        "colab": {
          "base_uri": "https://localhost:8080/"
        },
        "id": "ycSB7dMgYdyi",
        "outputId": "a7fcf6d5-2f3a-416d-f72a-427a8fe45c05"
      },
      "execution_count": 21,
      "outputs": [
        {
          "output_type": "stream",
          "name": "stdout",
          "text": [
            "loading Roboflow workspace...\n",
            "loading Roboflow project...\n",
            "Dependency ultralytics==8.0.196 is required but found version=8.3.5, to fix: `pip install ultralytics==8.0.196`\n"
          ]
        },
        {
          "output_type": "stream",
          "name": "stderr",
          "text": [
            "Downloading Dataset Version Zip in Detection-Potholes-Classes-6 to yolov8:: 100%|██████████| 338866/338866 [00:29<00:00, 11300.57it/s]"
          ]
        },
        {
          "output_type": "stream",
          "name": "stdout",
          "text": [
            "\n"
          ]
        },
        {
          "output_type": "stream",
          "name": "stderr",
          "text": [
            "\n",
            "Extracting Dataset Version Zip to Detection-Potholes-Classes-6 in yolov8:: 100%|██████████| 7536/7536 [01:07<00:00, 111.08it/s]\n"
          ]
        }
      ]
    },
    {
      "cell_type": "code",
      "source": [
        "data_yaml_path2 = \"/content/drive/MyDrive/YoloV11_Potholes_Detection/Detection-Potholes-Classes-6/data.yaml\""
      ],
      "metadata": {
        "id": "HuQ_JsuoY0N-"
      },
      "execution_count": 6,
      "outputs": []
    },
    {
      "cell_type": "code",
      "source": [
        "model_path"
      ],
      "metadata": {
        "colab": {
          "base_uri": "https://localhost:8080/",
          "height": 36
        },
        "id": "wBbIxEvCdxSB",
        "outputId": "8262b261-bb61-4e90-832a-c20bd5181dce"
      },
      "execution_count": 8,
      "outputs": [
        {
          "output_type": "execute_result",
          "data": {
            "text/plain": [
              "'/content/drive/MyDrive/YoloV11_Potholes_Detection/runs/segment/train3/weights/best.pt'"
            ],
            "application/vnd.google.colaboratory.intrinsic+json": {
              "type": "string"
            }
          },
          "metadata": {},
          "execution_count": 8
        }
      ]
    },
    {
      "cell_type": "code",
      "source": [
        "data_yaml_path2"
      ],
      "metadata": {
        "colab": {
          "base_uri": "https://localhost:8080/",
          "height": 36
        },
        "id": "prysVxNqd1NR",
        "outputId": "97a38128-32ae-4667-94ed-d2d233bf1a78"
      },
      "execution_count": 9,
      "outputs": [
        {
          "output_type": "execute_result",
          "data": {
            "text/plain": [
              "'/content/drive/MyDrive/YoloV11_Potholes_Detection/Detection-Potholes-Classes-6/data.yaml'"
            ],
            "application/vnd.google.colaboratory.intrinsic+json": {
              "type": "string"
            }
          },
          "metadata": {},
          "execution_count": 9
        }
      ]
    },
    {
      "cell_type": "code",
      "source": [
        "!yolo task=segment mode=train model=/content/drive/MyDrive/YoloV11_Potholes_Detection/runs/segment/train3/weights/best.pt data=/content/drive/MyDrive/YoloV11_Potholes_Detection/Detection-Potholes-Classes-6/data.yaml epochs=50 imgsz=640 box=5 cls=0.3 dfl=5 batch=16 weight_decay=0.0005\n"
      ],
      "metadata": {
        "colab": {
          "base_uri": "https://localhost:8080/"
        },
        "id": "b4uAwOwleE-y",
        "outputId": "677a17ff-c993-4d82-c320-d9a43491671c"
      },
      "execution_count": null,
      "outputs": [
        {
          "output_type": "stream",
          "name": "stdout",
          "text": [
            "Ultralytics 8.3.5 🚀 Python-3.10.12 torch-2.4.1+cu121 CUDA:0 (Tesla T4, 15102MiB)\n",
            "\u001b[34m\u001b[1mengine/trainer: \u001b[0mtask=segment, mode=train, model=/content/drive/MyDrive/YoloV11_Potholes_Detection/runs/segment/train3/weights/best.pt, data=/content/drive/MyDrive/YoloV11_Potholes_Detection/Detection-Potholes-Classes-6/data.yaml, epochs=50, time=None, patience=100, batch=16, imgsz=640, save=True, save_period=-1, cache=False, device=None, workers=8, project=None, name=train5, exist_ok=False, pretrained=True, optimizer=auto, verbose=True, seed=0, deterministic=True, single_cls=False, rect=False, cos_lr=False, close_mosaic=10, resume=False, amp=True, fraction=1.0, profile=False, freeze=None, multi_scale=False, overlap_mask=True, mask_ratio=4, dropout=0.0, val=True, split=val, save_json=False, save_hybrid=False, conf=None, iou=0.7, max_det=300, half=False, dnn=False, plots=True, source=None, vid_stride=1, stream_buffer=False, visualize=False, augment=False, agnostic_nms=False, classes=None, retina_masks=False, embed=None, show=False, save_frames=False, save_txt=False, save_conf=False, save_crop=False, show_labels=True, show_conf=True, show_boxes=True, line_width=None, format=torchscript, keras=False, optimize=False, int8=False, dynamic=False, simplify=True, opset=None, workspace=4, nms=False, lr0=0.01, lrf=0.01, momentum=0.937, weight_decay=0.0005, warmup_epochs=3.0, warmup_momentum=0.8, warmup_bias_lr=0.1, box=5, cls=0.3, dfl=5, pose=12.0, kobj=1.0, label_smoothing=0.0, nbs=64, hsv_h=0.015, hsv_s=0.7, hsv_v=0.4, degrees=0.0, translate=0.1, scale=0.5, shear=0.0, perspective=0.0, flipud=0.0, fliplr=0.5, bgr=0.0, mosaic=1.0, mixup=0.0, copy_paste=0.0, copy_paste_mode=flip, auto_augment=randaugment, erasing=0.4, crop_fraction=1.0, cfg=None, tracker=botsort.yaml, save_dir=runs/segment/train5\n",
            "\n",
            "                   from  n    params  module                                       arguments                     \n",
            "  0                  -1  1      1392  ultralytics.nn.modules.conv.Conv             [3, 48, 3, 2]                 \n",
            "  1                  -1  1     41664  ultralytics.nn.modules.conv.Conv             [48, 96, 3, 2]                \n",
            "  2                  -1  2    111360  ultralytics.nn.modules.block.C2f             [96, 96, 2, True]             \n",
            "  3                  -1  1    166272  ultralytics.nn.modules.conv.Conv             [96, 192, 3, 2]               \n",
            "  4                  -1  4    813312  ultralytics.nn.modules.block.C2f             [192, 192, 4, True]           \n",
            "  5                  -1  1    664320  ultralytics.nn.modules.conv.Conv             [192, 384, 3, 2]              \n",
            "  6                  -1  4   3248640  ultralytics.nn.modules.block.C2f             [384, 384, 4, True]           \n",
            "  7                  -1  1   1991808  ultralytics.nn.modules.conv.Conv             [384, 576, 3, 2]              \n",
            "  8                  -1  2   3985920  ultralytics.nn.modules.block.C2f             [576, 576, 2, True]           \n",
            "  9                  -1  1    831168  ultralytics.nn.modules.block.SPPF            [576, 576, 5]                 \n",
            " 10                  -1  1         0  torch.nn.modules.upsampling.Upsample         [None, 2, 'nearest']          \n",
            " 11             [-1, 6]  1         0  ultralytics.nn.modules.conv.Concat           [1]                           \n",
            " 12                  -1  2   1993728  ultralytics.nn.modules.block.C2f             [960, 384, 2]                 \n",
            " 13                  -1  1         0  torch.nn.modules.upsampling.Upsample         [None, 2, 'nearest']          \n",
            " 14             [-1, 4]  1         0  ultralytics.nn.modules.conv.Concat           [1]                           \n",
            " 15                  -1  2    517632  ultralytics.nn.modules.block.C2f             [576, 192, 2]                 \n",
            " 16                  -1  1    332160  ultralytics.nn.modules.conv.Conv             [192, 192, 3, 2]              \n",
            " 17            [-1, 12]  1         0  ultralytics.nn.modules.conv.Concat           [1]                           \n",
            " 18                  -1  2   1846272  ultralytics.nn.modules.block.C2f             [576, 384, 2]                 \n",
            " 19                  -1  1   1327872  ultralytics.nn.modules.conv.Conv             [384, 384, 3, 2]              \n",
            " 20             [-1, 9]  1         0  ultralytics.nn.modules.conv.Concat           [1]                           \n",
            " 21                  -1  2   4207104  ultralytics.nn.modules.block.C2f             [960, 576, 2]                 \n",
            " 22        [15, 18, 21]  1   2525561  ultralytics.nn.modules.head.Segment          [3, 32, 192, [192, 384, 576]] \n",
            "YOLOv8m-seg summary: 355 layers, 24,606,185 parameters, 24,606,169 gradients, 99.2 GFLOPs\n",
            "\n",
            "Transferred 573/573 items from pretrained weights\n",
            "\u001b[34m\u001b[1mTensorBoard: \u001b[0mStart with 'tensorboard --logdir runs/segment/train5', view at http://localhost:6006/\n",
            "Freezing layer 'model.22.dfl.conv.weight'\n",
            "\u001b[34m\u001b[1mAMP: \u001b[0mrunning Automatic Mixed Precision (AMP) checks with YOLO11n...\n",
            "\u001b[34m\u001b[1mAMP: \u001b[0mchecks passed ✅\n",
            "\u001b[34m\u001b[1mtrain: \u001b[0mScanning /content/drive/MyDrive/YoloV11_Potholes_Detection/Detection-Potholes-Classes-6/train/labels... 3294 images, 14 backgrounds, 0 corrupt: 100% 3294/3294 [01:08<00:00, 48.28it/s]\n",
            "\u001b[34m\u001b[1mtrain: \u001b[0mWARNING ⚠️ /content/drive/MyDrive/YoloV11_Potholes_Detection/Detection-Potholes-Classes-6/train/images/1-50-_mp4-0000_jpg.rf.d8cc9bbe1f04988b9ac3d6b4234e8594.jpg: 1 duplicate labels removed\n",
            "\u001b[34m\u001b[1mtrain: \u001b[0mWARNING ⚠️ /content/drive/MyDrive/YoloV11_Potholes_Detection/Detection-Potholes-Classes-6/train/images/IMG_7508_mov-0000_jpg.rf.70e21f200589318cce6b5ac7e20e99c1.jpg: 1 duplicate labels removed\n",
            "\u001b[34m\u001b[1mtrain: \u001b[0mWARNING ⚠️ /content/drive/MyDrive/YoloV11_Potholes_Detection/Detection-Potholes-Classes-6/train/images/IMG_7508_mov-0000_jpg.rf.91505380a3b1647cde8ab70b458f393c.jpg: 1 duplicate labels removed\n",
            "\u001b[34m\u001b[1mtrain: \u001b[0mWARNING ⚠️ /content/drive/MyDrive/YoloV11_Potholes_Detection/Detection-Potholes-Classes-6/train/images/IMG_7508_mov-0000_jpg.rf.f02b5819f11e96ac363fd9d878d4e3d9.jpg: 1 duplicate labels removed\n",
            "\u001b[34m\u001b[1mtrain: \u001b[0mNew cache created: /content/drive/MyDrive/YoloV11_Potholes_Detection/Detection-Potholes-Classes-6/train/labels.cache\n",
            "/usr/local/lib/python3.10/dist-packages/albumentations/__init__.py:13: UserWarning: A new version of Albumentations is available: 1.4.17 (you have 1.4.15). Upgrade using: pip install -U albumentations. To disable automatic update checks, set the environment variable NO_ALBUMENTATIONS_UPDATE to 1.\n",
            "  check_for_updates()\n",
            "\u001b[34m\u001b[1malbumentations: \u001b[0mBlur(p=0.01, blur_limit=(3, 7)), MedianBlur(p=0.01, blur_limit=(3, 7)), ToGray(p=0.01, num_output_channels=3, method='weighted_average'), CLAHE(p=0.01, clip_limit=(1, 4.0), tile_grid_size=(8, 8))\n",
            "\u001b[34m\u001b[1mval: \u001b[0mScanning /content/drive/MyDrive/YoloV11_Potholes_Detection/Detection-Potholes-Classes-6/valid/labels... 312 images, 2 backgrounds, 0 corrupt: 100% 312/312 [00:06<00:00, 51.32it/s]\n",
            "\u001b[34m\u001b[1mval: \u001b[0mNew cache created: /content/drive/MyDrive/YoloV11_Potholes_Detection/Detection-Potholes-Classes-6/valid/labels.cache\n",
            "Plotting labels to runs/segment/train5/labels.jpg... \n",
            "\u001b[34m\u001b[1moptimizer:\u001b[0m 'optimizer=auto' found, ignoring 'lr0=0.01' and 'momentum=0.937' and determining best 'optimizer', 'lr0' and 'momentum' automatically... \n",
            "\u001b[34m\u001b[1moptimizer:\u001b[0m AdamW(lr=0.001429, momentum=0.9) with parameter groups 92 weight(decay=0.0), 103 weight(decay=0.0005), 102 bias(decay=0.0)\n",
            "\u001b[34m\u001b[1mTensorBoard: \u001b[0mmodel graph visualization added ✅\n",
            "Image sizes 640 train, 640 val\n",
            "Using 2 dataloader workers\n",
            "Logging results to \u001b[1mruns/segment/train5\u001b[0m\n",
            "Starting training for 50 epochs...\n",
            "\n",
            "      Epoch    GPU_mem   box_loss   seg_loss   cls_loss   dfl_loss  Instances       Size\n",
            "       1/50      8.61G      1.032      1.941      1.303      5.177         64        640: 100% 206/206 [02:42<00:00,  1.27it/s]\n",
            "                 Class     Images  Instances      Box(P          R      mAP50  mAP50-95)     Mask(P          R      mAP50  mAP50-95): 100% 10/10 [00:06<00:00,  1.55it/s]\n",
            "                   all        312        923      0.349      0.368      0.304      0.164      0.367       0.35      0.301      0.151\n",
            "\n",
            "      Epoch    GPU_mem   box_loss   seg_loss   cls_loss   dfl_loss  Instances       Size\n",
            "       2/50      8.28G       1.05      1.885      1.295      5.149         65        640: 100% 206/206 [02:39<00:00,  1.30it/s]\n",
            "                 Class     Images  Instances      Box(P          R      mAP50  mAP50-95)     Mask(P          R      mAP50  mAP50-95): 100% 10/10 [00:06<00:00,  1.46it/s]\n",
            "                   all        312        923      0.296      0.337      0.257       0.13      0.279      0.318      0.233      0.109\n",
            "\n",
            "      Epoch    GPU_mem   box_loss   seg_loss   cls_loss   dfl_loss  Instances       Size\n",
            "       3/50      8.35G      1.076      1.935      1.329       5.25         77        640: 100% 206/206 [02:36<00:00,  1.32it/s]\n",
            "                 Class     Images  Instances      Box(P          R      mAP50  mAP50-95)     Mask(P          R      mAP50  mAP50-95): 100% 10/10 [00:08<00:00,  1.25it/s]\n",
            "                   all        312        923      0.277      0.324      0.216      0.112      0.271       0.28      0.191     0.0905\n",
            "\n",
            "      Epoch    GPU_mem   box_loss   seg_loss   cls_loss   dfl_loss  Instances       Size\n",
            "       4/50      8.34G       1.07      1.915      1.339      5.255         71        640: 100% 206/206 [02:34<00:00,  1.33it/s]\n",
            "                 Class     Images  Instances      Box(P          R      mAP50  mAP50-95)     Mask(P          R      mAP50  mAP50-95): 100% 10/10 [00:05<00:00,  1.79it/s]\n",
            "                   all        312        923      0.303      0.325      0.239      0.126      0.284      0.315      0.224      0.109\n",
            "\n",
            "      Epoch    GPU_mem   box_loss   seg_loss   cls_loss   dfl_loss  Instances       Size\n",
            "       5/50      8.37G      1.032      1.862       1.29      5.145         79        640: 100% 206/206 [02:34<00:00,  1.33it/s]\n",
            "                 Class     Images  Instances      Box(P          R      mAP50  mAP50-95)     Mask(P          R      mAP50  mAP50-95): 100% 10/10 [00:05<00:00,  1.70it/s]\n",
            "                   all        312        923       0.33      0.358      0.308      0.168       0.34      0.354      0.297      0.149\n",
            "\n",
            "      Epoch    GPU_mem   box_loss   seg_loss   cls_loss   dfl_loss  Instances       Size\n",
            "       6/50      8.29G      1.028      1.839      1.279      5.113         58        640: 100% 206/206 [02:34<00:00,  1.33it/s]\n",
            "                 Class     Images  Instances      Box(P          R      mAP50  mAP50-95)     Mask(P          R      mAP50  mAP50-95): 100% 10/10 [00:07<00:00,  1.26it/s]\n",
            "                   all        312        923      0.353      0.353      0.272      0.149      0.351      0.339       0.26      0.132\n",
            "\n",
            "      Epoch    GPU_mem   box_loss   seg_loss   cls_loss   dfl_loss  Instances       Size\n",
            "       7/50      8.29G      1.002      1.816       1.25      5.016         73        640: 100% 206/206 [02:36<00:00,  1.32it/s]\n",
            "                 Class     Images  Instances      Box(P          R      mAP50  mAP50-95)     Mask(P          R      mAP50  mAP50-95): 100% 10/10 [00:05<00:00,  1.77it/s]\n",
            "                   all        312        923      0.283      0.369      0.255      0.138      0.298      0.359      0.244      0.122\n",
            "\n",
            "      Epoch    GPU_mem   box_loss   seg_loss   cls_loss   dfl_loss  Instances       Size\n",
            "       8/50      8.23G     0.9989      1.795      1.237      5.002        119        640: 100% 206/206 [02:34<00:00,  1.33it/s]\n",
            "                 Class     Images  Instances      Box(P          R      mAP50  mAP50-95)     Mask(P          R      mAP50  mAP50-95): 100% 10/10 [00:06<00:00,  1.61it/s]\n",
            "                   all        312        923      0.337      0.404      0.313      0.173      0.333      0.396      0.298      0.152\n",
            "\n",
            "      Epoch    GPU_mem   box_loss   seg_loss   cls_loss   dfl_loss  Instances       Size\n",
            "       9/50      8.32G     0.9701      1.748      1.201      4.891        142        640: 100% 206/206 [02:37<00:00,  1.31it/s]\n",
            "                 Class     Images  Instances      Box(P          R      mAP50  mAP50-95)     Mask(P          R      mAP50  mAP50-95): 100% 10/10 [00:07<00:00,  1.30it/s]\n",
            "                   all        312        923       0.37      0.372      0.325       0.18      0.387      0.341      0.308      0.156\n",
            "\n",
            "      Epoch    GPU_mem   box_loss   seg_loss   cls_loss   dfl_loss  Instances       Size\n",
            "      10/50      8.28G     0.9691      1.729      1.185      4.874         84        640: 100% 206/206 [02:34<00:00,  1.34it/s]\n",
            "                 Class     Images  Instances      Box(P          R      mAP50  mAP50-95)     Mask(P          R      mAP50  mAP50-95): 100% 10/10 [00:08<00:00,  1.21it/s]\n",
            "                   all        312        923      0.402      0.398      0.347      0.198      0.394      0.382      0.328      0.167\n",
            "\n",
            "      Epoch    GPU_mem   box_loss   seg_loss   cls_loss   dfl_loss  Instances       Size\n",
            "      11/50       8.3G     0.9509      1.696      1.155       4.82         68        640: 100% 206/206 [02:34<00:00,  1.34it/s]\n",
            "                 Class     Images  Instances      Box(P          R      mAP50  mAP50-95)     Mask(P          R      mAP50  mAP50-95): 100% 10/10 [00:06<00:00,  1.61it/s]\n",
            "                   all        312        923      0.423      0.371       0.35      0.192      0.415      0.354      0.328      0.165\n",
            "\n",
            "      Epoch    GPU_mem   box_loss   seg_loss   cls_loss   dfl_loss  Instances       Size\n",
            "      12/50      8.29G     0.9364      1.679      1.132      4.766         70        640: 100% 206/206 [02:33<00:00,  1.34it/s]\n",
            "                 Class     Images  Instances      Box(P          R      mAP50  mAP50-95)     Mask(P          R      mAP50  mAP50-95): 100% 10/10 [00:05<00:00,  1.81it/s]\n",
            "                   all        312        923       0.33      0.426      0.334       0.19      0.337      0.417      0.325      0.165\n",
            "\n",
            "      Epoch    GPU_mem   box_loss   seg_loss   cls_loss   dfl_loss  Instances       Size\n",
            "      13/50      8.34G     0.9302      1.676      1.128       4.75         68        640: 100% 206/206 [02:32<00:00,  1.35it/s]\n",
            "                 Class     Images  Instances      Box(P          R      mAP50  mAP50-95)     Mask(P          R      mAP50  mAP50-95): 100% 10/10 [00:05<00:00,  1.76it/s]\n",
            "                   all        312        923      0.358      0.413       0.32      0.181      0.379        0.4      0.313      0.161\n",
            "\n",
            "      Epoch    GPU_mem   box_loss   seg_loss   cls_loss   dfl_loss  Instances       Size\n",
            "      14/50      8.29G       0.92      1.658      1.112      4.728         66        640: 100% 206/206 [02:33<00:00,  1.35it/s]\n",
            "                 Class     Images  Instances      Box(P          R      mAP50  mAP50-95)     Mask(P          R      mAP50  mAP50-95): 100% 10/10 [00:07<00:00,  1.35it/s]\n",
            "                   all        312        923      0.416        0.4      0.368      0.207      0.455      0.371      0.348      0.175\n",
            "\n",
            "      Epoch    GPU_mem   box_loss   seg_loss   cls_loss   dfl_loss  Instances       Size\n",
            "      15/50      8.27G     0.8936      1.616      1.074      4.616         62        640: 100% 206/206 [02:32<00:00,  1.35it/s]\n",
            "                 Class     Images  Instances      Box(P          R      mAP50  mAP50-95)     Mask(P          R      mAP50  mAP50-95): 100% 10/10 [00:06<00:00,  1.46it/s]\n",
            "                   all        312        923      0.365      0.409      0.346      0.197      0.351      0.394      0.328       0.17\n",
            "\n",
            "      Epoch    GPU_mem   box_loss   seg_loss   cls_loss   dfl_loss  Instances       Size\n",
            "      16/50       8.3G     0.8919      1.615      1.071      4.635         49        640: 100% 206/206 [02:33<00:00,  1.34it/s]\n",
            "                 Class     Images  Instances      Box(P          R      mAP50  mAP50-95)     Mask(P          R      mAP50  mAP50-95): 100% 10/10 [00:05<00:00,  1.80it/s]\n",
            "                   all        312        923      0.399      0.419      0.365      0.207      0.395      0.401      0.346      0.181\n",
            "\n",
            "      Epoch    GPU_mem   box_loss   seg_loss   cls_loss   dfl_loss  Instances       Size\n",
            "      17/50      8.39G     0.8805      1.597      1.057      4.583         84        640: 100% 206/206 [02:34<00:00,  1.33it/s]\n",
            "                 Class     Images  Instances      Box(P          R      mAP50  mAP50-95)     Mask(P          R      mAP50  mAP50-95): 100% 10/10 [00:06<00:00,  1.62it/s]\n",
            "                   all        312        923      0.384      0.366       0.34      0.186      0.398      0.352      0.327      0.168\n",
            "\n",
            "      Epoch    GPU_mem   box_loss   seg_loss   cls_loss   dfl_loss  Instances       Size\n",
            "      18/50       8.2G      0.864      1.571      1.032      4.513         81        640: 100% 206/206 [02:33<00:00,  1.35it/s]\n",
            "                 Class     Images  Instances      Box(P          R      mAP50  mAP50-95)     Mask(P          R      mAP50  mAP50-95): 100% 10/10 [00:07<00:00,  1.33it/s]\n",
            "                   all        312        923      0.397      0.404      0.344      0.194      0.393      0.392      0.335       0.17\n",
            "\n",
            "      Epoch    GPU_mem   box_loss   seg_loss   cls_loss   dfl_loss  Instances       Size\n",
            "      19/50      8.34G     0.8569      1.557      1.012      4.488        182        640:  82% 169/206 [02:04<00:30,  1.22it/s]"
          ]
        }
      ]
    },
    {
      "cell_type": "code",
      "source": [
        "!yolo cfg"
      ],
      "metadata": {
        "colab": {
          "base_uri": "https://localhost:8080/"
        },
        "id": "UoEx5srS27ki",
        "outputId": "3cf12b66-f8b3-4cda-c528-c1302a9e1073"
      },
      "execution_count": 12,
      "outputs": [
        {
          "output_type": "stream",
          "name": "stdout",
          "text": [
            "Printing '\u001b[1m\u001b[30m/usr/local/lib/python3.10/dist-packages/ultralytics/cfg/default.yaml\u001b[0m'\n",
            "\n",
            "task: detect\n",
            "mode: train\n",
            "model: null\n",
            "data: null\n",
            "epochs: 100\n",
            "time: null\n",
            "patience: 100\n",
            "batch: 16\n",
            "imgsz: 640\n",
            "save: true\n",
            "save_period: -1\n",
            "cache: false\n",
            "device: null\n",
            "workers: 8\n",
            "project: null\n",
            "name: null\n",
            "exist_ok: false\n",
            "pretrained: true\n",
            "optimizer: auto\n",
            "verbose: true\n",
            "seed: 0\n",
            "deterministic: true\n",
            "single_cls: false\n",
            "rect: false\n",
            "cos_lr: false\n",
            "close_mosaic: 10\n",
            "resume: false\n",
            "amp: true\n",
            "fraction: 1.0\n",
            "profile: false\n",
            "freeze: None\n",
            "multi_scale: false\n",
            "overlap_mask: true\n",
            "mask_ratio: 4\n",
            "dropout: 0.0\n",
            "val: true\n",
            "split: val\n",
            "save_json: false\n",
            "save_hybrid: false\n",
            "conf: null\n",
            "iou: 0.7\n",
            "max_det: 300\n",
            "half: false\n",
            "dnn: false\n",
            "plots: true\n",
            "source: null\n",
            "vid_stride: 1\n",
            "stream_buffer: false\n",
            "visualize: false\n",
            "augment: false\n",
            "agnostic_nms: false\n",
            "classes: null\n",
            "retina_masks: false\n",
            "embed: null\n",
            "show: false\n",
            "save_frames: false\n",
            "save_txt: false\n",
            "save_conf: false\n",
            "save_crop: false\n",
            "show_labels: true\n",
            "show_conf: true\n",
            "show_boxes: true\n",
            "line_width: null\n",
            "format: torchscript\n",
            "keras: false\n",
            "optimize: false\n",
            "int8: false\n",
            "dynamic: false\n",
            "simplify: true\n",
            "opset: null\n",
            "workspace: 4\n",
            "nms: false\n",
            "lr0: 0.01\n",
            "lrf: 0.01\n",
            "momentum: 0.937\n",
            "weight_decay: 0.0005\n",
            "warmup_epochs: 3.0\n",
            "warmup_momentum: 0.8\n",
            "warmup_bias_lr: 0.1\n",
            "box: 7.5\n",
            "cls: 0.5\n",
            "dfl: 1.5\n",
            "pose: 12.0\n",
            "kobj: 1.0\n",
            "label_smoothing: 0.0\n",
            "nbs: 64\n",
            "hsv_h: 0.015\n",
            "hsv_s: 0.7\n",
            "hsv_v: 0.4\n",
            "degrees: 0.0\n",
            "translate: 0.1\n",
            "scale: 0.5\n",
            "shear: 0.0\n",
            "perspective: 0.0\n",
            "flipud: 0.0\n",
            "fliplr: 0.5\n",
            "bgr: 0.0\n",
            "mosaic: 1.0\n",
            "mixup: 0.0\n",
            "copy_paste: 0.0\n",
            "copy_paste_mode: flip\n",
            "auto_augment: randaugment\n",
            "erasing: 0.4\n",
            "crop_fraction: 1.0\n",
            "cfg: null\n",
            "tracker: botsort.yaml\n",
            "\n"
          ]
        }
      ]
    },
    {
      "cell_type": "code",
      "source": [
        "!yolo help"
      ],
      "metadata": {
        "colab": {
          "base_uri": "https://localhost:8080/"
        },
        "id": "tQDycVm849ad",
        "outputId": "26b57ad6-cec2-4ca7-95ba-3e0812a9606f"
      },
      "execution_count": 2,
      "outputs": [
        {
          "output_type": "stream",
          "name": "stdout",
          "text": [
            "\n",
            "    Arguments received: ['yolo', 'help']. Ultralytics 'yolo' commands use the following syntax:\n",
            "\n",
            "        yolo TASK MODE ARGS\n",
            "\n",
            "        Where   TASK (optional) is one of {'detect', 'segment', 'pose', 'obb', 'classify'}\n",
            "                MODE (required) is one of {'benchmark', 'track', 'val', 'train', 'export', 'predict'}\n",
            "                ARGS (optional) are any number of custom 'arg=value' pairs like 'imgsz=320' that override defaults.\n",
            "                    See all ARGS at https://docs.ultralytics.com/usage/cfg or with 'yolo cfg'\n",
            "\n",
            "    1. Train a detection model for 10 epochs with an initial learning_rate of 0.01\n",
            "        yolo train data=coco8.yaml model=yolo11n.pt epochs=10 lr0=0.01\n",
            "\n",
            "    2. Predict a YouTube video using a pretrained segmentation model at image size 320:\n",
            "        yolo predict model=yolo11n-seg.pt source='https://youtu.be/LNwODJXcvt4' imgsz=320\n",
            "\n",
            "    3. Val a pretrained detection model at batch-size 1 and image size 640:\n",
            "        yolo val model=yolo11n.pt data=coco8.yaml batch=1 imgsz=640\n",
            "\n",
            "    4. Export a YOLO11n classification model to ONNX format at image size 224 by 128 (no TASK required)\n",
            "        yolo export model=yolo11n-cls.pt format=onnx imgsz=224,128\n",
            "\n",
            "    5. Explore your datasets using semantic search and SQL with a simple GUI powered by Ultralytics Explorer API\n",
            "        yolo explorer data=data.yaml model=yolo11n.pt\n",
            "    \n",
            "    6. Streamlit real-time webcam inference GUI\n",
            "        yolo streamlit-predict\n",
            "        \n",
            "    7. Run special commands:\n",
            "        yolo help\n",
            "        yolo checks\n",
            "        yolo version\n",
            "        yolo settings\n",
            "        yolo copy-cfg\n",
            "        yolo cfg\n",
            "\n",
            "    Docs: https://docs.ultralytics.com\n",
            "    Community: https://community.ultralytics.com\n",
            "    GitHub: https://github.com/ultralytics/ultralytics\n",
            "    \n"
          ]
        }
      ]
    },
    {
      "cell_type": "code",
      "source": [
        "!yolo copy-cfg"
      ],
      "metadata": {
        "colab": {
          "base_uri": "https://localhost:8080/"
        },
        "id": "Wx68IGXtuEIk",
        "outputId": "69374418-815d-4738-8762-095df30f578a"
      },
      "execution_count": 4,
      "outputs": [
        {
          "output_type": "stream",
          "name": "stdout",
          "text": [
            "/usr/local/lib/python3.10/dist-packages/ultralytics/cfg/default.yaml copied to /content/default_copy.yaml\n",
            "Example YOLO command with this new custom cfg:\n",
            "    yolo cfg='/content/default_copy.yaml' imgsz=320 batch=8\n"
          ]
        }
      ]
    },
    {
      "cell_type": "code",
      "source": [],
      "metadata": {
        "id": "TboNNZcnuKCf"
      },
      "execution_count": null,
      "outputs": []
    }
  ]
}